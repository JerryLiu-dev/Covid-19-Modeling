{
 "cells": [
  {
   "cell_type": "code",
   "execution_count": 1,
   "id": "7742c77f",
   "metadata": {
    "deletable": false,
    "editable": false
   },
   "outputs": [],
   "source": [
    "# Initialize Otter\n",
    "import otter\n",
    "grader = otter.Notebook(\"covid_part2.ipynb\")"
   ]
  },
  {
   "cell_type": "markdown",
   "id": "02b82b09",
   "metadata": {},
   "source": [
    "# Final Project: COVID-19 Dataset\n",
    "## Exploring COVID-19 Data through Modeling\n",
    "## Due Date: Thursday, December 13th, 11:59 PM\n",
    "## Collaboration Policy\n",
    "\n",
    "Data science is a collaborative activity. While you may talk with other groups about\n",
    "the project, we ask that you **write your solutions individually**. If you do\n",
    "discuss the assignments with others outside of your group please **include their names** at the top\n",
    "of your notebook."
   ]
  },
  {
   "cell_type": "markdown",
   "id": "cb908b16",
   "metadata": {},
   "source": [
    "\n",
    "## This Assignment\n",
    "\n",
    "In this final project, we will investigate COVID-19 data over the past year. This data contains information about COVID-19 case counts, mortalities, vaccination rates, and various other metadata that can assist in modeling various aspects of COVID-19.\n",
    "\n",
    "Through this final project, you will demonstrate your experience with:\n",
    "* Data cleaning and EDA using Pandas\n",
    "* Unsupervised and supervised learning techniques\n",
    "* Visualization\n"
   ]
  },
  {
   "cell_type": "markdown",
   "id": "2a2811cb",
   "metadata": {},
   "source": [
    "## Goal\n",
    "\n",
    "Model and analyze the temporal evolution of COVID-19 mortalities or cases using one unsupervised and one supervised technique of your choice. Interpret your models' results through visualizations, and draw insightful conclusions about the modeling of COVID-19 data.\n",
    "\n",
    "Recall that we studied linear and logistic regression, decision trees, random forests as part of supervised learning (with labels) and clustering, PCA as part of unsupervised learning (without labels). You are free to use any methods that you find suitable to answer the problem at hand."
   ]
  },
  {
   "cell_type": "code",
   "execution_count": 2,
   "id": "9c01af05",
   "metadata": {},
   "outputs": [],
   "source": [
    "# Run this cell to set up your notebook\n",
    "import numpy as np\n",
    "from geopy import *\n",
    "import pandas as pd\n",
    "from sklearn.linear_model import LinearRegression\n",
    "from sklearn.model_selection import train_test_split\n",
    "from sklearn.cluster import *\n",
    "import matplotlib.pyplot as plt\n",
    "import seaborn as sns\n",
    "\n",
    "import warnings\n",
    "warnings.filterwarnings(\"ignore\")\n",
    "\n",
    "import plotly.graph_objects as go\n",
    "import plotly.express as px\n",
    "from plotly.subplots import make_subplots\n",
    "from scipy.stats import pearsonr\n",
    "import re\n",
    "\n",
    "cases = pd.read_csv('data/time_series_covid19_confirmed_US.csv') # https://github.com/CSSEGISandData/COVID-19/blob/master/csse_covid_19_data/csse_covid_19_time_series/time_series_covid19_confirmed_US.csv\n",
    "vaccinations = pd.read_csv('data/people_vaccinated_us_timeline.csv') # https://raw.githubusercontent.com/govex/COVID-19/master/data_tables/vaccine_data/us_data/time_series/people_vaccinated_us_timeline.csv\n",
    "counties = pd.read_csv('data/co-est2020.csv', encoding='latin-1') # https://www2.census.gov/programs-surveys/popest/datasets/2010-2020/counties/totals/co-est2020.csv\n",
    "mask_use = pd.read_csv('data/mask-use-by-county.csv') # https://github.com/nytimes/covid-19-data/blob/master/mask-use/mask-use-by-county.csv"
   ]
  },
  {
   "cell_type": "markdown",
   "id": "1f4b18d3",
   "metadata": {},
   "source": [
    "<br/><br/><br/>\n",
    "\n",
    "---\n",
    "\n",
    "<br/><br/><br/>\n",
    "\n",
    "## Data Cleaning (Again!)\n",
    "\n",
    "For this section, please copy over the appropriate answers from your previous notebook submission."
   ]
  },
  {
   "cell_type": "markdown",
   "id": "f4e6efb9",
   "metadata": {
    "deletable": false,
    "editable": false
   },
   "source": [
    "### Part 1: Question 1a\n",
    "\n",
    "Impute the null values in *all* the datasets with zero values or empty strings where appropriate.\n",
    "\n",
    "<!--\n",
    "BEGIN QUESTION\n",
    "name: q1a\n",
    "points: 0\n",
    "-->"
   ]
  },
  {
   "cell_type": "code",
   "execution_count": 3,
   "id": "dd43134a",
   "metadata": {},
   "outputs": [
    {
     "data": {
      "text/html": [
       "<div>\n",
       "<style scoped>\n",
       "    .dataframe tbody tr th:only-of-type {\n",
       "        vertical-align: middle;\n",
       "    }\n",
       "\n",
       "    .dataframe tbody tr th {\n",
       "        vertical-align: top;\n",
       "    }\n",
       "\n",
       "    .dataframe thead th {\n",
       "        text-align: right;\n",
       "    }\n",
       "</style>\n",
       "<table border=\"1\" class=\"dataframe\">\n",
       "  <thead>\n",
       "    <tr style=\"text-align: right;\">\n",
       "      <th></th>\n",
       "      <th>FIPS</th>\n",
       "      <th>Province_State</th>\n",
       "      <th>Country_Region</th>\n",
       "      <th>Date</th>\n",
       "      <th>Lat</th>\n",
       "      <th>Long_</th>\n",
       "      <th>Combined_Key</th>\n",
       "      <th>People_Fully_Vaccinated</th>\n",
       "      <th>People_Partially_Vaccinated</th>\n",
       "    </tr>\n",
       "  </thead>\n",
       "  <tbody>\n",
       "    <tr>\n",
       "      <th>0</th>\n",
       "      <td>1.0</td>\n",
       "      <td>Alabama</td>\n",
       "      <td>US</td>\n",
       "      <td>2020-12-10</td>\n",
       "      <td>32.3182</td>\n",
       "      <td>-86.9023</td>\n",
       "      <td>Alabama, US</td>\n",
       "      <td>0.0</td>\n",
       "      <td>0.0</td>\n",
       "    </tr>\n",
       "    <tr>\n",
       "      <th>1</th>\n",
       "      <td>1.0</td>\n",
       "      <td>Alabama</td>\n",
       "      <td>US</td>\n",
       "      <td>2020-12-11</td>\n",
       "      <td>32.3182</td>\n",
       "      <td>-86.9023</td>\n",
       "      <td>Alabama, US</td>\n",
       "      <td>0.0</td>\n",
       "      <td>0.0</td>\n",
       "    </tr>\n",
       "    <tr>\n",
       "      <th>2</th>\n",
       "      <td>1.0</td>\n",
       "      <td>Alabama</td>\n",
       "      <td>US</td>\n",
       "      <td>2020-12-12</td>\n",
       "      <td>32.3182</td>\n",
       "      <td>-86.9023</td>\n",
       "      <td>Alabama, US</td>\n",
       "      <td>0.0</td>\n",
       "      <td>0.0</td>\n",
       "    </tr>\n",
       "    <tr>\n",
       "      <th>3</th>\n",
       "      <td>1.0</td>\n",
       "      <td>Alabama</td>\n",
       "      <td>US</td>\n",
       "      <td>2020-12-13</td>\n",
       "      <td>32.3182</td>\n",
       "      <td>-86.9023</td>\n",
       "      <td>Alabama, US</td>\n",
       "      <td>0.0</td>\n",
       "      <td>0.0</td>\n",
       "    </tr>\n",
       "    <tr>\n",
       "      <th>4</th>\n",
       "      <td>1.0</td>\n",
       "      <td>Alabama</td>\n",
       "      <td>US</td>\n",
       "      <td>2020-12-14</td>\n",
       "      <td>32.3182</td>\n",
       "      <td>-86.9023</td>\n",
       "      <td>Alabama, US</td>\n",
       "      <td>0.0</td>\n",
       "      <td>0.0</td>\n",
       "    </tr>\n",
       "    <tr>\n",
       "      <th>...</th>\n",
       "      <td>...</td>\n",
       "      <td>...</td>\n",
       "      <td>...</td>\n",
       "      <td>...</td>\n",
       "      <td>...</td>\n",
       "      <td>...</td>\n",
       "      <td>...</td>\n",
       "      <td>...</td>\n",
       "      <td>...</td>\n",
       "    </tr>\n",
       "    <tr>\n",
       "      <th>17746</th>\n",
       "      <td>56.0</td>\n",
       "      <td>Wyoming</td>\n",
       "      <td>US</td>\n",
       "      <td>2021-09-22</td>\n",
       "      <td>42.7560</td>\n",
       "      <td>-107.3025</td>\n",
       "      <td>Wyoming, US</td>\n",
       "      <td>236785.0</td>\n",
       "      <td>40039.0</td>\n",
       "    </tr>\n",
       "    <tr>\n",
       "      <th>17747</th>\n",
       "      <td>56.0</td>\n",
       "      <td>Wyoming</td>\n",
       "      <td>US</td>\n",
       "      <td>2021-09-23</td>\n",
       "      <td>42.7560</td>\n",
       "      <td>-107.3025</td>\n",
       "      <td>Wyoming, US</td>\n",
       "      <td>237374.0</td>\n",
       "      <td>40011.0</td>\n",
       "    </tr>\n",
       "    <tr>\n",
       "      <th>17748</th>\n",
       "      <td>56.0</td>\n",
       "      <td>Wyoming</td>\n",
       "      <td>US</td>\n",
       "      <td>2021-09-24</td>\n",
       "      <td>42.7560</td>\n",
       "      <td>-107.3025</td>\n",
       "      <td>Wyoming, US</td>\n",
       "      <td>237495.0</td>\n",
       "      <td>40023.0</td>\n",
       "    </tr>\n",
       "    <tr>\n",
       "      <th>17749</th>\n",
       "      <td>56.0</td>\n",
       "      <td>Wyoming</td>\n",
       "      <td>US</td>\n",
       "      <td>2021-09-25</td>\n",
       "      <td>42.7560</td>\n",
       "      <td>-107.3025</td>\n",
       "      <td>Wyoming, US</td>\n",
       "      <td>238024.0</td>\n",
       "      <td>40002.0</td>\n",
       "    </tr>\n",
       "    <tr>\n",
       "      <th>17750</th>\n",
       "      <td>56.0</td>\n",
       "      <td>Wyoming</td>\n",
       "      <td>US</td>\n",
       "      <td>2021-09-26</td>\n",
       "      <td>42.7560</td>\n",
       "      <td>-107.3025</td>\n",
       "      <td>Wyoming, US</td>\n",
       "      <td>238199.0</td>\n",
       "      <td>39877.0</td>\n",
       "    </tr>\n",
       "  </tbody>\n",
       "</table>\n",
       "<p>17751 rows × 9 columns</p>\n",
       "</div>"
      ],
      "text/plain": [
       "       FIPS Province_State Country_Region        Date      Lat     Long_  \\\n",
       "0       1.0        Alabama             US  2020-12-10  32.3182  -86.9023   \n",
       "1       1.0        Alabama             US  2020-12-11  32.3182  -86.9023   \n",
       "2       1.0        Alabama             US  2020-12-12  32.3182  -86.9023   \n",
       "3       1.0        Alabama             US  2020-12-13  32.3182  -86.9023   \n",
       "4       1.0        Alabama             US  2020-12-14  32.3182  -86.9023   \n",
       "...     ...            ...            ...         ...      ...       ...   \n",
       "17746  56.0        Wyoming             US  2021-09-22  42.7560 -107.3025   \n",
       "17747  56.0        Wyoming             US  2021-09-23  42.7560 -107.3025   \n",
       "17748  56.0        Wyoming             US  2021-09-24  42.7560 -107.3025   \n",
       "17749  56.0        Wyoming             US  2021-09-25  42.7560 -107.3025   \n",
       "17750  56.0        Wyoming             US  2021-09-26  42.7560 -107.3025   \n",
       "\n",
       "      Combined_Key  People_Fully_Vaccinated  People_Partially_Vaccinated  \n",
       "0      Alabama, US                      0.0                          0.0  \n",
       "1      Alabama, US                      0.0                          0.0  \n",
       "2      Alabama, US                      0.0                          0.0  \n",
       "3      Alabama, US                      0.0                          0.0  \n",
       "4      Alabama, US                      0.0                          0.0  \n",
       "...            ...                      ...                          ...  \n",
       "17746  Wyoming, US                 236785.0                      40039.0  \n",
       "17747  Wyoming, US                 237374.0                      40011.0  \n",
       "17748  Wyoming, US                 237495.0                      40023.0  \n",
       "17749  Wyoming, US                 238024.0                      40002.0  \n",
       "17750  Wyoming, US                 238199.0                      39877.0  \n",
       "\n",
       "[17751 rows x 9 columns]"
      ]
     },
     "execution_count": 3,
     "metadata": {},
     "output_type": "execute_result"
    }
   ],
   "source": [
    "for col in cases:\n",
    "    if cases[col].dtype == 'float64':\n",
    "        cases[col] = cases[col].fillna(0)\n",
    "    if cases[col].dtype == 'O':\n",
    "        cases[col]= cases[col].fillna(\"\")\n",
    "vaccinations\n",
    "for col in vaccinations:\n",
    "    if vaccinations[col].dtype == 'float64':\n",
    "        vaccinations[col]=vaccinations[col].astype(object).fillna(0)\n",
    "    if vaccinations[col].dtype == 'O':\n",
    "        vaccinations[col]=vaccinations[col].astype(object).fillna(\"\")\n",
    "vaccinations"
   ]
  },
  {
   "cell_type": "code",
   "execution_count": 4,
   "id": "f42e23fb",
   "metadata": {
    "deletable": false,
    "editable": false
   },
   "outputs": [
    {
     "data": {
      "text/html": [
       "<p><strong><pre style='display: inline;'>q1a</pre></strong> passed!</p>"
      ],
      "text/plain": [
       "q1a results: All test cases passed!"
      ]
     },
     "execution_count": 4,
     "metadata": {},
     "output_type": "execute_result"
    }
   ],
   "source": [
    "grader.check(\"q1a\")"
   ]
  },
  {
   "cell_type": "markdown",
   "id": "32fdc73c",
   "metadata": {
    "deletable": false,
    "editable": false
   },
   "source": [
    "### Part 1: Question 1d\n",
    "\n",
    "Generate a valid FIPS code for the `counties` table.\n",
    "\n",
    "*Hint*: Refer to [this](https://transition.fcc.gov/oet/info/maps/census/fips/fips.txt) guide on FIPS codes.\n",
    "\n",
    "<!--\n",
    "BEGIN QUESTION\n",
    "name: q1d\n",
    "points: 0\n",
    "-->"
   ]
  },
  {
   "cell_type": "code",
   "execution_count": 5,
   "id": "8869affb",
   "metadata": {},
   "outputs": [
    {
     "data": {
      "text/html": [
       "<div>\n",
       "<style scoped>\n",
       "    .dataframe tbody tr th:only-of-type {\n",
       "        vertical-align: middle;\n",
       "    }\n",
       "\n",
       "    .dataframe tbody tr th {\n",
       "        vertical-align: top;\n",
       "    }\n",
       "\n",
       "    .dataframe thead th {\n",
       "        text-align: right;\n",
       "    }\n",
       "</style>\n",
       "<table border=\"1\" class=\"dataframe\">\n",
       "  <thead>\n",
       "    <tr style=\"text-align: right;\">\n",
       "      <th></th>\n",
       "      <th>SUMLEV</th>\n",
       "      <th>REGION</th>\n",
       "      <th>DIVISION</th>\n",
       "      <th>STATE</th>\n",
       "      <th>COUNTY</th>\n",
       "      <th>STNAME</th>\n",
       "      <th>CTYNAME</th>\n",
       "      <th>CENSUS2010POP</th>\n",
       "      <th>ESTIMATESBASE2010</th>\n",
       "      <th>POPESTIMATE2010</th>\n",
       "      <th>...</th>\n",
       "      <th>POPESTIMATE2013</th>\n",
       "      <th>POPESTIMATE2014</th>\n",
       "      <th>POPESTIMATE2015</th>\n",
       "      <th>POPESTIMATE2016</th>\n",
       "      <th>POPESTIMATE2017</th>\n",
       "      <th>POPESTIMATE2018</th>\n",
       "      <th>POPESTIMATE2019</th>\n",
       "      <th>POPESTIMATE042020</th>\n",
       "      <th>POPESTIMATE2020</th>\n",
       "      <th>FIPS</th>\n",
       "    </tr>\n",
       "  </thead>\n",
       "  <tbody>\n",
       "    <tr>\n",
       "      <th>0</th>\n",
       "      <td>40</td>\n",
       "      <td>3</td>\n",
       "      <td>6</td>\n",
       "      <td>1</td>\n",
       "      <td>0</td>\n",
       "      <td>Alabama</td>\n",
       "      <td>Alabama</td>\n",
       "      <td>4779736</td>\n",
       "      <td>4780118</td>\n",
       "      <td>4785514</td>\n",
       "      <td>...</td>\n",
       "      <td>4831586</td>\n",
       "      <td>4843737</td>\n",
       "      <td>4854803</td>\n",
       "      <td>4866824</td>\n",
       "      <td>4877989</td>\n",
       "      <td>4891628</td>\n",
       "      <td>4907965</td>\n",
       "      <td>4920706</td>\n",
       "      <td>4921532</td>\n",
       "      <td>1000</td>\n",
       "    </tr>\n",
       "    <tr>\n",
       "      <th>1</th>\n",
       "      <td>50</td>\n",
       "      <td>3</td>\n",
       "      <td>6</td>\n",
       "      <td>1</td>\n",
       "      <td>1</td>\n",
       "      <td>Alabama</td>\n",
       "      <td>Autauga County</td>\n",
       "      <td>54571</td>\n",
       "      <td>54582</td>\n",
       "      <td>54761</td>\n",
       "      <td>...</td>\n",
       "      <td>54747</td>\n",
       "      <td>54922</td>\n",
       "      <td>54903</td>\n",
       "      <td>55302</td>\n",
       "      <td>55448</td>\n",
       "      <td>55533</td>\n",
       "      <td>55769</td>\n",
       "      <td>56130</td>\n",
       "      <td>56145</td>\n",
       "      <td>1001</td>\n",
       "    </tr>\n",
       "    <tr>\n",
       "      <th>2</th>\n",
       "      <td>50</td>\n",
       "      <td>3</td>\n",
       "      <td>6</td>\n",
       "      <td>1</td>\n",
       "      <td>3</td>\n",
       "      <td>Alabama</td>\n",
       "      <td>Baldwin County</td>\n",
       "      <td>182265</td>\n",
       "      <td>182263</td>\n",
       "      <td>183121</td>\n",
       "      <td>...</td>\n",
       "      <td>194978</td>\n",
       "      <td>199306</td>\n",
       "      <td>203101</td>\n",
       "      <td>207787</td>\n",
       "      <td>212737</td>\n",
       "      <td>218071</td>\n",
       "      <td>223565</td>\n",
       "      <td>227989</td>\n",
       "      <td>229287</td>\n",
       "      <td>1003</td>\n",
       "    </tr>\n",
       "    <tr>\n",
       "      <th>3</th>\n",
       "      <td>50</td>\n",
       "      <td>3</td>\n",
       "      <td>6</td>\n",
       "      <td>1</td>\n",
       "      <td>5</td>\n",
       "      <td>Alabama</td>\n",
       "      <td>Barbour County</td>\n",
       "      <td>27457</td>\n",
       "      <td>27454</td>\n",
       "      <td>27325</td>\n",
       "      <td>...</td>\n",
       "      <td>26946</td>\n",
       "      <td>26768</td>\n",
       "      <td>26300</td>\n",
       "      <td>25828</td>\n",
       "      <td>25169</td>\n",
       "      <td>24887</td>\n",
       "      <td>24657</td>\n",
       "      <td>24652</td>\n",
       "      <td>24589</td>\n",
       "      <td>1005</td>\n",
       "    </tr>\n",
       "    <tr>\n",
       "      <th>4</th>\n",
       "      <td>50</td>\n",
       "      <td>3</td>\n",
       "      <td>6</td>\n",
       "      <td>1</td>\n",
       "      <td>7</td>\n",
       "      <td>Alabama</td>\n",
       "      <td>Bibb County</td>\n",
       "      <td>22915</td>\n",
       "      <td>22904</td>\n",
       "      <td>22858</td>\n",
       "      <td>...</td>\n",
       "      <td>22510</td>\n",
       "      <td>22541</td>\n",
       "      <td>22553</td>\n",
       "      <td>22590</td>\n",
       "      <td>22532</td>\n",
       "      <td>22300</td>\n",
       "      <td>22313</td>\n",
       "      <td>22199</td>\n",
       "      <td>22136</td>\n",
       "      <td>1007</td>\n",
       "    </tr>\n",
       "    <tr>\n",
       "      <th>...</th>\n",
       "      <td>...</td>\n",
       "      <td>...</td>\n",
       "      <td>...</td>\n",
       "      <td>...</td>\n",
       "      <td>...</td>\n",
       "      <td>...</td>\n",
       "      <td>...</td>\n",
       "      <td>...</td>\n",
       "      <td>...</td>\n",
       "      <td>...</td>\n",
       "      <td>...</td>\n",
       "      <td>...</td>\n",
       "      <td>...</td>\n",
       "      <td>...</td>\n",
       "      <td>...</td>\n",
       "      <td>...</td>\n",
       "      <td>...</td>\n",
       "      <td>...</td>\n",
       "      <td>...</td>\n",
       "      <td>...</td>\n",
       "      <td>...</td>\n",
       "    </tr>\n",
       "    <tr>\n",
       "      <th>3189</th>\n",
       "      <td>50</td>\n",
       "      <td>4</td>\n",
       "      <td>8</td>\n",
       "      <td>56</td>\n",
       "      <td>37</td>\n",
       "      <td>Wyoming</td>\n",
       "      <td>Sweetwater County</td>\n",
       "      <td>43806</td>\n",
       "      <td>43806</td>\n",
       "      <td>43580</td>\n",
       "      <td>...</td>\n",
       "      <td>45189</td>\n",
       "      <td>44996</td>\n",
       "      <td>44780</td>\n",
       "      <td>44319</td>\n",
       "      <td>43663</td>\n",
       "      <td>43188</td>\n",
       "      <td>42917</td>\n",
       "      <td>42717</td>\n",
       "      <td>42673</td>\n",
       "      <td>56037</td>\n",
       "    </tr>\n",
       "    <tr>\n",
       "      <th>3190</th>\n",
       "      <td>50</td>\n",
       "      <td>4</td>\n",
       "      <td>8</td>\n",
       "      <td>56</td>\n",
       "      <td>39</td>\n",
       "      <td>Wyoming</td>\n",
       "      <td>Teton County</td>\n",
       "      <td>21294</td>\n",
       "      <td>21298</td>\n",
       "      <td>21298</td>\n",
       "      <td>...</td>\n",
       "      <td>22335</td>\n",
       "      <td>22801</td>\n",
       "      <td>23083</td>\n",
       "      <td>23255</td>\n",
       "      <td>23383</td>\n",
       "      <td>23261</td>\n",
       "      <td>23385</td>\n",
       "      <td>23453</td>\n",
       "      <td>23497</td>\n",
       "      <td>56039</td>\n",
       "    </tr>\n",
       "    <tr>\n",
       "      <th>3191</th>\n",
       "      <td>50</td>\n",
       "      <td>4</td>\n",
       "      <td>8</td>\n",
       "      <td>56</td>\n",
       "      <td>41</td>\n",
       "      <td>Wyoming</td>\n",
       "      <td>Uinta County</td>\n",
       "      <td>21118</td>\n",
       "      <td>21121</td>\n",
       "      <td>21090</td>\n",
       "      <td>...</td>\n",
       "      <td>20969</td>\n",
       "      <td>20835</td>\n",
       "      <td>20777</td>\n",
       "      <td>20711</td>\n",
       "      <td>20449</td>\n",
       "      <td>20299</td>\n",
       "      <td>20196</td>\n",
       "      <td>20169</td>\n",
       "      <td>20215</td>\n",
       "      <td>56041</td>\n",
       "    </tr>\n",
       "    <tr>\n",
       "      <th>3192</th>\n",
       "      <td>50</td>\n",
       "      <td>4</td>\n",
       "      <td>8</td>\n",
       "      <td>56</td>\n",
       "      <td>43</td>\n",
       "      <td>Wyoming</td>\n",
       "      <td>Washakie County</td>\n",
       "      <td>8533</td>\n",
       "      <td>8528</td>\n",
       "      <td>8531</td>\n",
       "      <td>...</td>\n",
       "      <td>8417</td>\n",
       "      <td>8277</td>\n",
       "      <td>8282</td>\n",
       "      <td>8180</td>\n",
       "      <td>8013</td>\n",
       "      <td>7886</td>\n",
       "      <td>7824</td>\n",
       "      <td>7756</td>\n",
       "      <td>7760</td>\n",
       "      <td>56043</td>\n",
       "    </tr>\n",
       "    <tr>\n",
       "      <th>3193</th>\n",
       "      <td>50</td>\n",
       "      <td>4</td>\n",
       "      <td>8</td>\n",
       "      <td>56</td>\n",
       "      <td>45</td>\n",
       "      <td>Wyoming</td>\n",
       "      <td>Weston County</td>\n",
       "      <td>7208</td>\n",
       "      <td>7208</td>\n",
       "      <td>7198</td>\n",
       "      <td>...</td>\n",
       "      <td>7132</td>\n",
       "      <td>7134</td>\n",
       "      <td>7202</td>\n",
       "      <td>7228</td>\n",
       "      <td>6962</td>\n",
       "      <td>6895</td>\n",
       "      <td>6880</td>\n",
       "      <td>6752</td>\n",
       "      <td>6743</td>\n",
       "      <td>56045</td>\n",
       "    </tr>\n",
       "  </tbody>\n",
       "</table>\n",
       "<p>3194 rows × 22 columns</p>\n",
       "</div>"
      ],
      "text/plain": [
       "      SUMLEV  REGION  DIVISION  STATE  COUNTY   STNAME            CTYNAME  \\\n",
       "0         40       3         6      1       0  Alabama            Alabama   \n",
       "1         50       3         6      1       1  Alabama     Autauga County   \n",
       "2         50       3         6      1       3  Alabama     Baldwin County   \n",
       "3         50       3         6      1       5  Alabama     Barbour County   \n",
       "4         50       3         6      1       7  Alabama        Bibb County   \n",
       "...      ...     ...       ...    ...     ...      ...                ...   \n",
       "3189      50       4         8     56      37  Wyoming  Sweetwater County   \n",
       "3190      50       4         8     56      39  Wyoming       Teton County   \n",
       "3191      50       4         8     56      41  Wyoming       Uinta County   \n",
       "3192      50       4         8     56      43  Wyoming    Washakie County   \n",
       "3193      50       4         8     56      45  Wyoming      Weston County   \n",
       "\n",
       "     CENSUS2010POP  ESTIMATESBASE2010  POPESTIMATE2010  ...  POPESTIMATE2013  \\\n",
       "0          4779736            4780118          4785514  ...          4831586   \n",
       "1            54571              54582            54761  ...            54747   \n",
       "2           182265             182263           183121  ...           194978   \n",
       "3            27457              27454            27325  ...            26946   \n",
       "4            22915              22904            22858  ...            22510   \n",
       "...            ...                ...              ...  ...              ...   \n",
       "3189         43806              43806            43580  ...            45189   \n",
       "3190         21294              21298            21298  ...            22335   \n",
       "3191         21118              21121            21090  ...            20969   \n",
       "3192          8533               8528             8531  ...             8417   \n",
       "3193          7208               7208             7198  ...             7132   \n",
       "\n",
       "      POPESTIMATE2014  POPESTIMATE2015  POPESTIMATE2016  POPESTIMATE2017  \\\n",
       "0             4843737          4854803          4866824          4877989   \n",
       "1               54922            54903            55302            55448   \n",
       "2              199306           203101           207787           212737   \n",
       "3               26768            26300            25828            25169   \n",
       "4               22541            22553            22590            22532   \n",
       "...               ...              ...              ...              ...   \n",
       "3189            44996            44780            44319            43663   \n",
       "3190            22801            23083            23255            23383   \n",
       "3191            20835            20777            20711            20449   \n",
       "3192             8277             8282             8180             8013   \n",
       "3193             7134             7202             7228             6962   \n",
       "\n",
       "      POPESTIMATE2018  POPESTIMATE2019  POPESTIMATE042020  POPESTIMATE2020  \\\n",
       "0             4891628          4907965            4920706          4921532   \n",
       "1               55533            55769              56130            56145   \n",
       "2              218071           223565             227989           229287   \n",
       "3               24887            24657              24652            24589   \n",
       "4               22300            22313              22199            22136   \n",
       "...               ...              ...                ...              ...   \n",
       "3189            43188            42917              42717            42673   \n",
       "3190            23261            23385              23453            23497   \n",
       "3191            20299            20196              20169            20215   \n",
       "3192             7886             7824               7756             7760   \n",
       "3193             6895             6880               6752             6743   \n",
       "\n",
       "       FIPS  \n",
       "0      1000  \n",
       "1      1001  \n",
       "2      1003  \n",
       "3      1005  \n",
       "4      1007  \n",
       "...     ...  \n",
       "3189  56037  \n",
       "3190  56039  \n",
       "3191  56041  \n",
       "3192  56043  \n",
       "3193  56045  \n",
       "\n",
       "[3194 rows x 22 columns]"
      ]
     },
     "execution_count": 5,
     "metadata": {},
     "output_type": "execute_result"
    }
   ],
   "source": [
    "counties['FIPS'] = counties['STATE']*1000 + counties['COUNTY']\n",
    "counties"
   ]
  },
  {
   "cell_type": "code",
   "execution_count": 6,
   "id": "f936214a",
   "metadata": {
    "deletable": false,
    "editable": false
   },
   "outputs": [
    {
     "data": {
      "text/html": [
       "<p><strong><pre style='display: inline;'>q1d</pre></strong> passed!</p>"
      ],
      "text/plain": [
       "q1d results: All test cases passed!"
      ]
     },
     "execution_count": 6,
     "metadata": {},
     "output_type": "execute_result"
    }
   ],
   "source": [
    "grader.check(\"q1d\")"
   ]
  },
  {
   "cell_type": "markdown",
   "id": "5851d0b6",
   "metadata": {
    "deletable": false,
    "editable": false
   },
   "source": [
    "### Part 1: Question 1e\n",
    "\n",
    "Merge the `counties`, `cases`, and `mask_use` tables on an appropriate primary key to generate county-wise data.\n",
    "\n",
    "<!--\n",
    "BEGIN QUESTION\n",
    "name: q1e\n",
    "points: 0\n",
    "-->"
   ]
  },
  {
   "cell_type": "code",
   "execution_count": 7,
   "id": "3730e8a2",
   "metadata": {},
   "outputs": [
    {
     "data": {
      "text/html": [
       "<div>\n",
       "<style scoped>\n",
       "    .dataframe tbody tr th:only-of-type {\n",
       "        vertical-align: middle;\n",
       "    }\n",
       "\n",
       "    .dataframe tbody tr th {\n",
       "        vertical-align: top;\n",
       "    }\n",
       "\n",
       "    .dataframe thead th {\n",
       "        text-align: right;\n",
       "    }\n",
       "</style>\n",
       "<table border=\"1\" class=\"dataframe\">\n",
       "  <thead>\n",
       "    <tr style=\"text-align: right;\">\n",
       "      <th></th>\n",
       "      <th>COUNTYFP</th>\n",
       "      <th>NEVER</th>\n",
       "      <th>RARELY</th>\n",
       "      <th>SOMETIMES</th>\n",
       "      <th>FREQUENTLY</th>\n",
       "      <th>ALWAYS</th>\n",
       "      <th>SUMLEV</th>\n",
       "      <th>REGION</th>\n",
       "      <th>DIVISION</th>\n",
       "      <th>STATE</th>\n",
       "      <th>...</th>\n",
       "      <th>9/3/21</th>\n",
       "      <th>9/4/21</th>\n",
       "      <th>9/5/21</th>\n",
       "      <th>9/6/21</th>\n",
       "      <th>9/7/21</th>\n",
       "      <th>9/8/21</th>\n",
       "      <th>9/9/21</th>\n",
       "      <th>9/10/21</th>\n",
       "      <th>9/11/21</th>\n",
       "      <th>9/12/21</th>\n",
       "    </tr>\n",
       "  </thead>\n",
       "  <tbody>\n",
       "    <tr>\n",
       "      <th>0</th>\n",
       "      <td>1001</td>\n",
       "      <td>0.053</td>\n",
       "      <td>0.074</td>\n",
       "      <td>0.134</td>\n",
       "      <td>0.295</td>\n",
       "      <td>0.444</td>\n",
       "      <td>50</td>\n",
       "      <td>3</td>\n",
       "      <td>6</td>\n",
       "      <td>1</td>\n",
       "      <td>...</td>\n",
       "      <td>8909</td>\n",
       "      <td>8959</td>\n",
       "      <td>9012</td>\n",
       "      <td>9048</td>\n",
       "      <td>9063</td>\n",
       "      <td>9108</td>\n",
       "      <td>9145</td>\n",
       "      <td>9207</td>\n",
       "      <td>9246</td>\n",
       "      <td>9287</td>\n",
       "    </tr>\n",
       "    <tr>\n",
       "      <th>1</th>\n",
       "      <td>1003</td>\n",
       "      <td>0.083</td>\n",
       "      <td>0.059</td>\n",
       "      <td>0.098</td>\n",
       "      <td>0.323</td>\n",
       "      <td>0.436</td>\n",
       "      <td>50</td>\n",
       "      <td>3</td>\n",
       "      <td>6</td>\n",
       "      <td>1</td>\n",
       "      <td>...</td>\n",
       "      <td>33789</td>\n",
       "      <td>33968</td>\n",
       "      <td>34063</td>\n",
       "      <td>34142</td>\n",
       "      <td>34246</td>\n",
       "      <td>34393</td>\n",
       "      <td>34536</td>\n",
       "      <td>34726</td>\n",
       "      <td>34872</td>\n",
       "      <td>34950</td>\n",
       "    </tr>\n",
       "    <tr>\n",
       "      <th>2</th>\n",
       "      <td>1005</td>\n",
       "      <td>0.067</td>\n",
       "      <td>0.121</td>\n",
       "      <td>0.120</td>\n",
       "      <td>0.201</td>\n",
       "      <td>0.491</td>\n",
       "      <td>50</td>\n",
       "      <td>3</td>\n",
       "      <td>6</td>\n",
       "      <td>1</td>\n",
       "      <td>...</td>\n",
       "      <td>3142</td>\n",
       "      <td>3166</td>\n",
       "      <td>3184</td>\n",
       "      <td>3197</td>\n",
       "      <td>3207</td>\n",
       "      <td>3225</td>\n",
       "      <td>3243</td>\n",
       "      <td>3260</td>\n",
       "      <td>3282</td>\n",
       "      <td>3295</td>\n",
       "    </tr>\n",
       "    <tr>\n",
       "      <th>3</th>\n",
       "      <td>1007</td>\n",
       "      <td>0.020</td>\n",
       "      <td>0.034</td>\n",
       "      <td>0.096</td>\n",
       "      <td>0.278</td>\n",
       "      <td>0.572</td>\n",
       "      <td>50</td>\n",
       "      <td>3</td>\n",
       "      <td>6</td>\n",
       "      <td>1</td>\n",
       "      <td>...</td>\n",
       "      <td>3580</td>\n",
       "      <td>3618</td>\n",
       "      <td>3628</td>\n",
       "      <td>3641</td>\n",
       "      <td>3661</td>\n",
       "      <td>3694</td>\n",
       "      <td>3727</td>\n",
       "      <td>3752</td>\n",
       "      <td>3778</td>\n",
       "      <td>3795</td>\n",
       "    </tr>\n",
       "    <tr>\n",
       "      <th>4</th>\n",
       "      <td>1009</td>\n",
       "      <td>0.053</td>\n",
       "      <td>0.114</td>\n",
       "      <td>0.180</td>\n",
       "      <td>0.194</td>\n",
       "      <td>0.459</td>\n",
       "      <td>50</td>\n",
       "      <td>3</td>\n",
       "      <td>6</td>\n",
       "      <td>1</td>\n",
       "      <td>...</td>\n",
       "      <td>8763</td>\n",
       "      <td>8830</td>\n",
       "      <td>8862</td>\n",
       "      <td>8899</td>\n",
       "      <td>8951</td>\n",
       "      <td>8998</td>\n",
       "      <td>9048</td>\n",
       "      <td>9095</td>\n",
       "      <td>9161</td>\n",
       "      <td>9176</td>\n",
       "    </tr>\n",
       "    <tr>\n",
       "      <th>...</th>\n",
       "      <td>...</td>\n",
       "      <td>...</td>\n",
       "      <td>...</td>\n",
       "      <td>...</td>\n",
       "      <td>...</td>\n",
       "      <td>...</td>\n",
       "      <td>...</td>\n",
       "      <td>...</td>\n",
       "      <td>...</td>\n",
       "      <td>...</td>\n",
       "      <td>...</td>\n",
       "      <td>...</td>\n",
       "      <td>...</td>\n",
       "      <td>...</td>\n",
       "      <td>...</td>\n",
       "      <td>...</td>\n",
       "      <td>...</td>\n",
       "      <td>...</td>\n",
       "      <td>...</td>\n",
       "      <td>...</td>\n",
       "      <td>...</td>\n",
       "    </tr>\n",
       "    <tr>\n",
       "      <th>3136</th>\n",
       "      <td>56037</td>\n",
       "      <td>0.061</td>\n",
       "      <td>0.295</td>\n",
       "      <td>0.230</td>\n",
       "      <td>0.146</td>\n",
       "      <td>0.268</td>\n",
       "      <td>50</td>\n",
       "      <td>4</td>\n",
       "      <td>8</td>\n",
       "      <td>56</td>\n",
       "      <td>...</td>\n",
       "      <td>5791</td>\n",
       "      <td>5791</td>\n",
       "      <td>5791</td>\n",
       "      <td>5791</td>\n",
       "      <td>5929</td>\n",
       "      <td>5970</td>\n",
       "      <td>6034</td>\n",
       "      <td>6111</td>\n",
       "      <td>6111</td>\n",
       "      <td>6111</td>\n",
       "    </tr>\n",
       "    <tr>\n",
       "      <th>3137</th>\n",
       "      <td>56039</td>\n",
       "      <td>0.095</td>\n",
       "      <td>0.157</td>\n",
       "      <td>0.160</td>\n",
       "      <td>0.247</td>\n",
       "      <td>0.340</td>\n",
       "      <td>50</td>\n",
       "      <td>4</td>\n",
       "      <td>8</td>\n",
       "      <td>56</td>\n",
       "      <td>...</td>\n",
       "      <td>4502</td>\n",
       "      <td>4502</td>\n",
       "      <td>4502</td>\n",
       "      <td>4502</td>\n",
       "      <td>4568</td>\n",
       "      <td>4572</td>\n",
       "      <td>4587</td>\n",
       "      <td>4611</td>\n",
       "      <td>4611</td>\n",
       "      <td>4611</td>\n",
       "    </tr>\n",
       "    <tr>\n",
       "      <th>3138</th>\n",
       "      <td>56041</td>\n",
       "      <td>0.098</td>\n",
       "      <td>0.278</td>\n",
       "      <td>0.154</td>\n",
       "      <td>0.207</td>\n",
       "      <td>0.264</td>\n",
       "      <td>50</td>\n",
       "      <td>4</td>\n",
       "      <td>8</td>\n",
       "      <td>56</td>\n",
       "      <td>...</td>\n",
       "      <td>3053</td>\n",
       "      <td>3053</td>\n",
       "      <td>3053</td>\n",
       "      <td>3053</td>\n",
       "      <td>3086</td>\n",
       "      <td>3141</td>\n",
       "      <td>3168</td>\n",
       "      <td>3204</td>\n",
       "      <td>3204</td>\n",
       "      <td>3204</td>\n",
       "    </tr>\n",
       "    <tr>\n",
       "      <th>3139</th>\n",
       "      <td>56043</td>\n",
       "      <td>0.204</td>\n",
       "      <td>0.155</td>\n",
       "      <td>0.069</td>\n",
       "      <td>0.285</td>\n",
       "      <td>0.287</td>\n",
       "      <td>50</td>\n",
       "      <td>4</td>\n",
       "      <td>8</td>\n",
       "      <td>56</td>\n",
       "      <td>...</td>\n",
       "      <td>1080</td>\n",
       "      <td>1080</td>\n",
       "      <td>1080</td>\n",
       "      <td>1080</td>\n",
       "      <td>1087</td>\n",
       "      <td>1104</td>\n",
       "      <td>1111</td>\n",
       "      <td>1120</td>\n",
       "      <td>1120</td>\n",
       "      <td>1120</td>\n",
       "    </tr>\n",
       "    <tr>\n",
       "      <th>3140</th>\n",
       "      <td>56045</td>\n",
       "      <td>0.142</td>\n",
       "      <td>0.129</td>\n",
       "      <td>0.148</td>\n",
       "      <td>0.207</td>\n",
       "      <td>0.374</td>\n",
       "      <td>50</td>\n",
       "      <td>4</td>\n",
       "      <td>8</td>\n",
       "      <td>56</td>\n",
       "      <td>...</td>\n",
       "      <td>802</td>\n",
       "      <td>802</td>\n",
       "      <td>802</td>\n",
       "      <td>802</td>\n",
       "      <td>813</td>\n",
       "      <td>821</td>\n",
       "      <td>824</td>\n",
       "      <td>829</td>\n",
       "      <td>829</td>\n",
       "      <td>829</td>\n",
       "    </tr>\n",
       "  </tbody>\n",
       "</table>\n",
       "<p>3141 rows × 638 columns</p>\n",
       "</div>"
      ],
      "text/plain": [
       "      COUNTYFP  NEVER  RARELY  SOMETIMES  FREQUENTLY  ALWAYS  SUMLEV  REGION  \\\n",
       "0         1001  0.053   0.074      0.134       0.295   0.444      50       3   \n",
       "1         1003  0.083   0.059      0.098       0.323   0.436      50       3   \n",
       "2         1005  0.067   0.121      0.120       0.201   0.491      50       3   \n",
       "3         1007  0.020   0.034      0.096       0.278   0.572      50       3   \n",
       "4         1009  0.053   0.114      0.180       0.194   0.459      50       3   \n",
       "...        ...    ...     ...        ...         ...     ...     ...     ...   \n",
       "3136     56037  0.061   0.295      0.230       0.146   0.268      50       4   \n",
       "3137     56039  0.095   0.157      0.160       0.247   0.340      50       4   \n",
       "3138     56041  0.098   0.278      0.154       0.207   0.264      50       4   \n",
       "3139     56043  0.204   0.155      0.069       0.285   0.287      50       4   \n",
       "3140     56045  0.142   0.129      0.148       0.207   0.374      50       4   \n",
       "\n",
       "      DIVISION  STATE  ...  9/3/21 9/4/21 9/5/21 9/6/21  9/7/21  9/8/21  \\\n",
       "0            6      1  ...    8909   8959   9012   9048    9063    9108   \n",
       "1            6      1  ...   33789  33968  34063  34142   34246   34393   \n",
       "2            6      1  ...    3142   3166   3184   3197    3207    3225   \n",
       "3            6      1  ...    3580   3618   3628   3641    3661    3694   \n",
       "4            6      1  ...    8763   8830   8862   8899    8951    8998   \n",
       "...        ...    ...  ...     ...    ...    ...    ...     ...     ...   \n",
       "3136         8     56  ...    5791   5791   5791   5791    5929    5970   \n",
       "3137         8     56  ...    4502   4502   4502   4502    4568    4572   \n",
       "3138         8     56  ...    3053   3053   3053   3053    3086    3141   \n",
       "3139         8     56  ...    1080   1080   1080   1080    1087    1104   \n",
       "3140         8     56  ...     802    802    802    802     813     821   \n",
       "\n",
       "      9/9/21  9/10/21  9/11/21  9/12/21  \n",
       "0       9145     9207     9246     9287  \n",
       "1      34536    34726    34872    34950  \n",
       "2       3243     3260     3282     3295  \n",
       "3       3727     3752     3778     3795  \n",
       "4       9048     9095     9161     9176  \n",
       "...      ...      ...      ...      ...  \n",
       "3136    6034     6111     6111     6111  \n",
       "3137    4587     4611     4611     4611  \n",
       "3138    3168     3204     3204     3204  \n",
       "3139    1111     1120     1120     1120  \n",
       "3140     824      829      829      829  \n",
       "\n",
       "[3141 rows x 638 columns]"
      ]
     },
     "execution_count": 7,
     "metadata": {},
     "output_type": "execute_result"
    }
   ],
   "source": [
    "mask_cop = mask_use.copy()\n",
    "county_data = mask_use.merge(counties, how='inner', left_on = 'COUNTYFP', right_on= 'FIPS').merge(cases,how='inner', left_on = 'FIPS', right_on ='FIPS')\n",
    "\n",
    "\n",
    "county_data"
   ]
  },
  {
   "cell_type": "code",
   "execution_count": 8,
   "id": "7a0a0793",
   "metadata": {
    "deletable": false,
    "editable": false
   },
   "outputs": [
    {
     "data": {
      "text/html": [
       "<p><strong><pre style='display: inline;'>q1e</pre></strong> passed!</p>"
      ],
      "text/plain": [
       "q1e results: All test cases passed!"
      ]
     },
     "execution_count": 8,
     "metadata": {},
     "output_type": "execute_result"
    }
   ],
   "source": [
    "grader.check(\"q1e\")"
   ]
  },
  {
   "cell_type": "markdown",
   "id": "b7bb5b84",
   "metadata": {
    "tags": []
   },
   "source": [
    "<br/><br/><br/>\n",
    "\n",
    "---\n",
    "\n",
    "<br/><br/><br/>\n",
    "\n",
    "## Question 5: Guided Supervised Modeling\n",
    "\n",
    "This section will guide you through creating a supervised learning framework that will predict the number of COVID-19 cases per capita given various COVID-19 safety protocols that have been implemented. Then, we will investigate the bias, variance, and observational noise of this framework.\n",
    "\n",
    "Note that any answer responses without the appropriate work (i.e. code or math) will be subject to additional review and will not receive any credit."
   ]
  },
  {
   "cell_type": "markdown",
   "id": "a94355a0",
   "metadata": {
    "deletable": false,
    "editable": false
   },
   "source": [
    "<!-- BEGIN QUESTION -->\n",
    "\n",
    "### Question 5a\n",
    "\n",
    "We will use county-wise mask usage data to predict the number of COVID-19 cases on September 12th, 2021. Create a visualization that shows the pairwise correlation between each combination of column in the mask usage data and the number of COVID-19 cases.\n",
    "\n",
    "*Hint*: You should be plotting 36 correlations.\n",
    "<!--\n",
    "BEGIN QUESTION\n",
    "name: q5a\n",
    "points: 3\n",
    "manual: True\n",
    "-->"
   ]
  },
  {
   "cell_type": "code",
   "execution_count": 9,
   "id": "98cbca46",
   "metadata": {},
   "outputs": [
    {
     "data": {
      "text/html": [
       "<div>\n",
       "<style scoped>\n",
       "    .dataframe tbody tr th:only-of-type {\n",
       "        vertical-align: middle;\n",
       "    }\n",
       "\n",
       "    .dataframe tbody tr th {\n",
       "        vertical-align: top;\n",
       "    }\n",
       "\n",
       "    .dataframe thead th {\n",
       "        text-align: right;\n",
       "    }\n",
       "</style>\n",
       "<table border=\"1\" class=\"dataframe\">\n",
       "  <thead>\n",
       "    <tr style=\"text-align: right;\">\n",
       "      <th></th>\n",
       "      <th>NEVER</th>\n",
       "      <th>RARELY</th>\n",
       "      <th>SOMETIMES</th>\n",
       "      <th>FREQUENTLY</th>\n",
       "      <th>ALWAYS</th>\n",
       "      <th>9/12/21</th>\n",
       "    </tr>\n",
       "  </thead>\n",
       "  <tbody>\n",
       "    <tr>\n",
       "      <th>NEVER</th>\n",
       "      <td>1.000000</td>\n",
       "      <td>0.427804</td>\n",
       "      <td>0.322870</td>\n",
       "      <td>0.050347</td>\n",
       "      <td>-0.684537</td>\n",
       "      <td>-0.174157</td>\n",
       "    </tr>\n",
       "    <tr>\n",
       "      <th>RARELY</th>\n",
       "      <td>0.427804</td>\n",
       "      <td>1.000000</td>\n",
       "      <td>0.364388</td>\n",
       "      <td>0.144175</td>\n",
       "      <td>-0.728177</td>\n",
       "      <td>-0.189829</td>\n",
       "    </tr>\n",
       "    <tr>\n",
       "      <th>SOMETIMES</th>\n",
       "      <td>0.322870</td>\n",
       "      <td>0.364388</td>\n",
       "      <td>1.000000</td>\n",
       "      <td>0.073865</td>\n",
       "      <td>-0.668884</td>\n",
       "      <td>-0.181213</td>\n",
       "    </tr>\n",
       "    <tr>\n",
       "      <th>FREQUENTLY</th>\n",
       "      <td>0.050347</td>\n",
       "      <td>0.144175</td>\n",
       "      <td>0.073865</td>\n",
       "      <td>1.000000</td>\n",
       "      <td>-0.517932</td>\n",
       "      <td>-0.137103</td>\n",
       "    </tr>\n",
       "    <tr>\n",
       "      <th>ALWAYS</th>\n",
       "      <td>-0.684537</td>\n",
       "      <td>-0.728177</td>\n",
       "      <td>-0.668884</td>\n",
       "      <td>-0.517932</td>\n",
       "      <td>1.000000</td>\n",
       "      <td>0.262421</td>\n",
       "    </tr>\n",
       "    <tr>\n",
       "      <th>9/12/21</th>\n",
       "      <td>-0.174157</td>\n",
       "      <td>-0.189829</td>\n",
       "      <td>-0.181213</td>\n",
       "      <td>-0.137103</td>\n",
       "      <td>0.262421</td>\n",
       "      <td>1.000000</td>\n",
       "    </tr>\n",
       "  </tbody>\n",
       "</table>\n",
       "</div>"
      ],
      "text/plain": [
       "               NEVER    RARELY  SOMETIMES  FREQUENTLY    ALWAYS   9/12/21\n",
       "NEVER       1.000000  0.427804   0.322870    0.050347 -0.684537 -0.174157\n",
       "RARELY      0.427804  1.000000   0.364388    0.144175 -0.728177 -0.189829\n",
       "SOMETIMES   0.322870  0.364388   1.000000    0.073865 -0.668884 -0.181213\n",
       "FREQUENTLY  0.050347  0.144175   0.073865    1.000000 -0.517932 -0.137103\n",
       "ALWAYS     -0.684537 -0.728177  -0.668884   -0.517932  1.000000  0.262421\n",
       "9/12/21    -0.174157 -0.189829  -0.181213   -0.137103  0.262421  1.000000"
      ]
     },
     "execution_count": 9,
     "metadata": {},
     "output_type": "execute_result"
    }
   ],
   "source": [
    "county_data[['NEVER', 'RARELY', 'SOMETIMES', 'FREQUENTLY', 'ALWAYS', '9/12/21']].corr()"
   ]
  },
  {
   "cell_type": "markdown",
   "id": "d8860eb5",
   "metadata": {
    "deletable": false,
    "editable": false
   },
   "source": [
    "<!-- END QUESTION -->\n",
    "\n",
    "### Question 5b\n",
    "\n",
    "Train a linear regression model to predict the number of COVID-19 cases using county-wise mask usage data for September 12, 2021. Evaluate your model's RMSE on a held-out validation set with 33% of the county-wise data. When possible, make sure to set `random_state = 42` when splitting your data into training and test sets.\n",
    "<!--\n",
    "BEGIN QUESTION\n",
    "name: q5b\n",
    "points: 5\n",
    "-->"
   ]
  },
  {
   "cell_type": "code",
   "execution_count": 10,
   "id": "e7acf42e-426e-4be8-95fb-be1c29d72e91",
   "metadata": {},
   "outputs": [
    {
     "data": {
      "text/plain": [
       "(27834.430707426982, 62591.13087482178)"
      ]
     },
     "execution_count": 10,
     "metadata": {},
     "output_type": "execute_result"
    }
   ],
   "source": [
    "X_q5b = county_data[['NEVER', 'RARELY', 'SOMETIMES', 'FREQUENTLY', 'ALWAYS']]\n",
    "y_q5b = county_data['9/12/21']\n",
    "\n",
    "# Make sure to set random_state = 42 and test_size = 0.33!\n",
    "X_q5b_train, X_q5b_test, y_q5b_train, y_q5b_test = train_test_split(X_q5b, y_q5b, test_size=0.33, random_state=42)\n",
    "\n",
    "model_q5b = LinearRegression(fit_intercept=True)\n",
    "model_q5b.fit(X_q5b_train, y_q5b_train)                                                                     \n",
    "y_q5b_pred_train, y_q5b_pred_test = model_q5b.predict(X_q5b_train), model_q5b.predict(X_q5b_test)\n",
    "train_rmse_cases = np.sqrt(np.mean((y_q5b_pred_train - y_q5b_train)**2))\n",
    "test_rmse_cases = np.sqrt(np.mean((y_q5b_pred_test - y_q5b_test)**2))\n",
    "\n",
    "train_rmse_cases, test_rmse_cases"
   ]
  },
  {
   "cell_type": "code",
   "execution_count": 11,
   "id": "6d3bcbd5",
   "metadata": {
    "deletable": false,
    "editable": false
   },
   "outputs": [
    {
     "data": {
      "text/html": [
       "<p><strong><pre style='display: inline;'>q5b</pre></strong> passed!</p>"
      ],
      "text/plain": [
       "q5b results: All test cases passed!"
      ]
     },
     "execution_count": 11,
     "metadata": {},
     "output_type": "execute_result"
    }
   ],
   "source": [
    "grader.check(\"q5b\")"
   ]
  },
  {
   "cell_type": "markdown",
   "id": "a07da3a5",
   "metadata": {
    "deletable": false,
    "editable": false
   },
   "source": [
    "<!-- BEGIN QUESTION -->\n",
    "\n",
    "### Question 5c\n",
    "\n",
    "Explain potential reasons the test set RMSE is much higher as compared to the training set RMSE.\n",
    "<!--\n",
    "BEGIN QUESTION\n",
    "name: q5c\n",
    "points: 3\n",
    "manual: True\n",
    "-->"
   ]
  },
  {
   "cell_type": "markdown",
   "id": "4fd63a7d",
   "metadata": {},
   "source": [
    "The model may be overfitted to create favorable test statistics on the training set. Consequently, it performs more poorly on the testing set, resulting in a higher RMSE."
   ]
  },
  {
   "cell_type": "markdown",
   "id": "5bbbb97c",
   "metadata": {
    "deletable": false,
    "editable": false
   },
   "source": [
    "<!-- END QUESTION -->\n",
    "\n",
    "### Question 5d\n",
    "\n",
    "Instead of predicting the number of COVID-19 cases, redo part (b) by predicting the number of cases per capita. Report the model's RMSE on the training and validation set.\n",
    "\n",
    "Comment on the relationship between the training and test RMSE by predicting the number of cases per capita instead of the total number of cases.\n",
    "<!--\n",
    "BEGIN QUESTION\n",
    "name: q5d\n",
    "points: 3\n",
    "-->"
   ]
  },
  {
   "cell_type": "code",
   "execution_count": 12,
   "id": "85dfd858",
   "metadata": {},
   "outputs": [
    {
     "data": {
      "text/plain": [
       "(0.03540985737823185, 0.038167903498916037)"
      ]
     },
     "execution_count": 12,
     "metadata": {},
     "output_type": "execute_result"
    }
   ],
   "source": [
    "X_q5d = county_data[['NEVER', 'RARELY', 'SOMETIMES', 'FREQUENTLY', 'ALWAYS']]\n",
    "y_q5d = county_data['9/12/21'] / county_data['POPESTIMATE2020']\n",
    "X_q5d_train, X_q5d_test, y_q5d_train, y_q5d_test = train_test_split(X_q5d, y_q5d, test_size=0.33, random_state=42)\n",
    "\n",
    "model_q5d = LinearRegression(fit_intercept=True)\n",
    "model_q5d.fit(X_q5d_train, y_q5d_train)                                                                     \n",
    "y_q5d_pred_train, y_q5d_pred_test = model_q5d.predict(X_q5d_train), model_q5d.predict(X_q5d_test)\n",
    "train_rmse_cpc = np.sqrt(np.mean((y_q5d_pred_train - y_q5d_train)**2))\n",
    "test_rmse_cpc = np.sqrt(np.mean((y_q5d_pred_test - y_q5d_test)**2))\n",
    "\n",
    "train_rmse_cpc, test_rmse_cpc"
   ]
  },
  {
   "cell_type": "code",
   "execution_count": 13,
   "id": "bdbcb703",
   "metadata": {
    "deletable": false,
    "editable": false
   },
   "outputs": [
    {
     "data": {
      "text/html": [
       "<p><strong><pre style='display: inline;'>q5d</pre></strong> passed!</p>"
      ],
      "text/plain": [
       "q5d results: All test cases passed!"
      ]
     },
     "execution_count": 13,
     "metadata": {},
     "output_type": "execute_result"
    }
   ],
   "source": [
    "grader.check(\"q5d\")"
   ]
  },
  {
   "cell_type": "markdown",
   "id": "5c2215f3",
   "metadata": {
    "deletable": false,
    "editable": false
   },
   "source": [
    "<!-- BEGIN QUESTION -->\n",
    "\n",
    "### Question 5e\n",
    "\n",
    "Visualize the model outputs from part (d) by plotting the predictions $\\hat{y}$ versus the observations $y$. Comment on what the plot indicates about our linear model as a comment in the code cell.\n",
    "\n",
    "<!--\n",
    "BEGIN QUESTION\n",
    "name: q5e\n",
    "points: 3\n",
    "manual: True\n",
    "-->"
   ]
  },
  {
   "cell_type": "code",
   "execution_count": 14,
   "id": "8e59258f",
   "metadata": {},
   "outputs": [
    {
     "data": {
      "image/png": "[encoded data removed]",
      "text/plain": [
       "<Figure size 1440x720 with 1 Axes>"
      ]
     },
     "metadata": {
      "needs_background": "light"
     },
     "output_type": "display_data"
    },
    {
     "data": {
      "image/png": "[encoded data removed]",
      "text/plain": [
       "<Figure size 1440x720 with 1 Axes>"
      ]
     },
     "metadata": {
      "needs_background": "light"
     },
     "output_type": "display_data"
    }
   ],
   "source": [
    "plt.figure(figsize=(20,10))\n",
    "plt.scatter(x=y_q5d_train, y=model_q5d.predict(X_q5d_train))\n",
    "plt.xlabel('Observations')\n",
    "plt.ylabel('Predictions')\n",
    "plt.xlim(left=0, right=0.25)\n",
    "plt.title('Predictions versus Observations (Training Data)')\n",
    "plt.show()\n",
    "\n",
    "plt.figure(figsize=(20,10))\n",
    "plt.scatter(x=y_q5d_test, y=model_q5d.predict(X_q5d_test))\n",
    "plt.xlabel('Observations')\n",
    "plt.ylabel('Predictions')\n",
    "plt.xlim(left=0, right=0.25)\n",
    "plt.title('Predictions versus Observations (Test Data)')\n",
    "plt.show()"
   ]
  },
  {
   "cell_type": "markdown",
   "id": "fedb5469",
   "metadata": {
    "deletable": false,
    "editable": false
   },
   "source": [
    "<!-- END QUESTION -->\n",
    "\n",
    "### Question 5f\n",
    "\n",
    "We will investigate the bias and variance of this improved model on the test set using the bias-variance decomposition to formalize the behaviour of our model. To generate an empirical estimate of the errors and the parameters in the bias-variance decomposition, train 1000 bootstrapped models on the training dataset from part (d).\n",
    "\n",
    "<!--\n",
    "BEGIN QUESTION\n",
    "name: q5f\n",
    "points: 5\n",
    "-->"
   ]
  },
  {
   "cell_type": "code",
   "execution_count": 15,
   "id": "f7b7619b",
   "metadata": {},
   "outputs": [],
   "source": [
    "X_q5f = county_data[['NEVER', 'RARELY', 'SOMETIMES', 'FREQUENTLY', 'ALWAYS']]\n",
    "y_q5f = county_data['9/12/21'] / county_data['POPESTIMATE2020']\n",
    "models = []\n",
    "\n",
    "for i in np.arange(1000):\n",
    "    X_q5f_train, X_q5f_test, y_q5f_train, y_q5f_test = train_test_split(X_q5f, y_q5f, test_size=0.33)\n",
    "    model = LinearRegression(fit_intercept=True).fit(X_q5f_train, y_q5f_train)                  \n",
    "    models.append(model)"
   ]
  },
  {
   "cell_type": "code",
   "execution_count": 16,
   "id": "5211469f",
   "metadata": {
    "deletable": false,
    "editable": false
   },
   "outputs": [
    {
     "data": {
      "text/html": [
       "<p><strong><pre style='display: inline;'>q5f</pre></strong> passed!</p>"
      ],
      "text/plain": [
       "q5f results: All test cases passed!"
      ]
     },
     "execution_count": 16,
     "metadata": {},
     "output_type": "execute_result"
    }
   ],
   "source": [
    "grader.check(\"q5f\")"
   ]
  },
  {
   "cell_type": "markdown",
   "id": "715760e0",
   "metadata": {
    "deletable": false,
    "editable": false
   },
   "source": [
    "### Question 5g\n",
    "\n",
    "To investigate the variance in our test predictions, we sample a particular test point $(x_i, y_i)$ such that $i = 100$. In other words, we will use the 100th point in the test set from part (d), `(X_q5d_test.iloc[100], y_q5d_test.iloc[100])` as the testing point.\n",
    "\n",
    "Generate predictions and square errors for this test point for all 1000 models, and calculate the *proportion* of the *expected* square error that is captured by the model prediction variance. In other words, we wish to estimate the following quantity:\n",
    "\n",
    "$$\n",
    "\\frac{\\mathrm{Var}(f_\\theta(x_i))}{\\mathrm{E}_\\theta[(y_i - f_\\theta(x_i))^2]}\n",
    "$$\n",
    "\n",
    "*Hint*: Refer to the bias-variance decomposition from lecture.\n",
    "<!--\n",
    "BEGIN QUESTION\n",
    "name: q5g\n",
    "points: 5\n",
    "-->"
   ]
  },
  {
   "cell_type": "code",
   "execution_count": 17,
   "id": "896ac261",
   "metadata": {},
   "outputs": [
    {
     "data": {
      "text/plain": [
       "0.00046872785520218354"
      ]
     },
     "execution_count": 17,
     "metadata": {},
     "output_type": "execute_result"
    }
   ],
   "source": [
    "Xi_5g, yi_5g = X_q5d_test.iloc[[100]], y_q5d_test.iloc[100]\n",
    "\n",
    "predictions = [x[0] for x in pd.Series(models).apply(lambda x: x.predict(Xi_5g))]\n",
    "\n",
    "prop_var = np.var(predictions) / np.mean((yi_5g - predictions)**2)\n",
    "\n",
    "prop_var"
   ]
  },
  {
   "cell_type": "code",
   "execution_count": 18,
   "id": "4b7bcc0c",
   "metadata": {
    "deletable": false,
    "editable": false
   },
   "outputs": [
    {
     "data": {
      "text/html": [
       "<p><strong><pre style='display: inline;'>q5g</pre></strong> passed!</p>"
      ],
      "text/plain": [
       "q5g results: All test cases passed!"
      ]
     },
     "execution_count": 18,
     "metadata": {},
     "output_type": "execute_result"
    }
   ],
   "source": [
    "grader.check(\"q5g\")"
   ]
  },
  {
   "cell_type": "markdown",
   "id": "0b590da8",
   "metadata": {
    "deletable": false,
    "editable": false
   },
   "source": [
    "<!-- BEGIN QUESTION -->\n",
    "\n",
    "### Question 5h\n",
    "\n",
    "Using the bias-variance decomposition, comment on how much the variance of the model contributes to the error on the sample point above. We will extend this scenario to analyze the noise term in the bias-variance decomposition, specifically with regards to this COVID-19 dataset. Consider the following:\n",
    "\n",
    "i) Assuming no observational noise (i.e. $\\epsilon = 0$), what is the *magnitude* of the empirical model bias on this sample point?\n",
    "\n",
    "ii) Clearly, there is a non-trivial amount of observational noise with COVID-19 case data simply due to how testing works and occurs. Please take a look at [this article](https://fivethirtyeight.com/features/coronavirus-case-counts-are-meaningless/) for more information. Given this infomation, explain the issues with the assumptions and result in 5h(i).\n",
    "\n",
    "iii) Recall that we typically assume $y = g(x) + \\epsilon$, where $\\epsilon \\sim \\mathcal{N}(\\mu, \\sigma)$. In the theoretical setting for bias-variance, we have assumed $\\mu = 0, \\sigma > 0$. In this practical setting, analyze and determine how $\\epsilon$ could be modeled (as a normal distribution, but you may also consider how it could be modeled as another distribution). Are there any immediate issues with the assumptions we have made in the theoretical setting where $\\mu = 0, \\sigma > 0$? What conditions on $\\mu, \\sigma$ could be more appropriate and why?\n",
    "\n",
    "iv) Does the standard bias-variance decomposition presented in lecture hold given $\\epsilon$ being normally distributed according to your answer in part (iii)? If so, please explain why. If not, explain why it does not hold and if possible, how to modify the bias-variance decomposition to make it hold (i.e. perhaps there is an additional noise term $E[\\epsilon^3]$). \n",
    "\n",
    "*Hint*: Try to express $y = g(x) + \\epsilon$ by adding and subtracting a certain quantity.\n",
    "\n",
    "v) Intuitively, is it possible to minimize the true model bias to 0 given your $\\epsilon$ formulation in part (iii)? Why or why not? Justify your answer using part (iv) if possible.\n",
    "\n",
    "vi) Consider the infinite sample case where an oracle grants you as many samples as requested, and answer the same question in part (v). Is it possible to minimize the true model bias to 0 given your $\\epsilon$ formulation in part (iii)? Conclude with an analysis of what our modeling task can approximate using $X\\theta \\approx y$ in the finite and infinite sample case.\n",
    "\n",
    "<!--\n",
    "BEGIN QUESTION\n",
    "name: q5h\n",
    "points: 24\n",
    "manual: True\n",
    "-->"
   ]
  },
  {
   "cell_type": "code",
   "execution_count": 19,
   "id": "937a0ab0-bc3a-4986-9102-3e279aed0ae1",
   "metadata": {},
   "outputs": [
    {
     "data": {
      "text/plain": [
       "0.04029862667205882"
      ]
     },
     "execution_count": 19,
     "metadata": {},
     "output_type": "execute_result"
    }
   ],
   "source": [
    "bias = np.sqrt(np.mean((yi_5g - predictions)**2)-np.var(predictions))\n",
    "bias"
   ]
  },
  {
   "cell_type": "markdown",
   "id": "f478bb92",
   "metadata": {},
   "source": [
    "i) the bias for this sample point is .04 roughly, so the magnitude is .04. That is assuming no noise and no variance of noise.\n",
    "\n",
    "ii) Gleaning from the article, we have the glaring problem that the noise, that is the testing methods, how the data is obtained, and other random factors that could obscure our truth function, is actually quite high due to inconsistent testing (not all groups are given tests), delays in testing, or unproportional testing scaling. What's more the noise is not independent, because as we saw in the article rising Covid cases can actually cause testing to be skewed for political reasons as in governments could reduce testing to save face. Also testing can be dependent on X because the counties have different testing protocol.\n",
    "\n",
    "iii) The conditions for mu should be less than 0 because our testing will always be below the actual true curve, so the noise is always going to be oscillating up and down an underestimation because of the problems with testing listed above. The variance will be more than 0 still.\n",
    "\n",
    "iv) The bias variance decomposition will not hold the same if noise is normally distributed (-1, 1). I choose negative 1 here arbitrarily but it could be lower. After decomposing the model risk we get bias^2+model variance+2*observed variance(from noise) - 2*model bias. all we need to do to fix it is add and subtract 1 to 𝑦=𝑔(𝑥)+𝜖 to make the middle term cancel out in the original and subtract an additional noise term. So in short, we do \n",
    "\n",
    "=E((𝑔(𝑥)+𝜖+1) -(ŷ(x)-1-E(𝜖))^2) \n",
    "\n",
    "=E(𝜖^2+2𝜖+1 - 2 * ((𝜖(g(x) - y(x) -1 + 1) + (g(x) -y(x) -1 + 1)) -(E(g(x)-ŷ(x))^2)  --> the E(𝜖) is -1 so the middle term cancels out all terms\n",
    "\n",
    "=E(𝜖^2+2𝜖+1 -0-E(g(x)-ŷ(x))^2) --> E(𝜖^2+2𝜖+1) is (2 -2 + 1 = 1) because since E(𝜖^2) - -1^2 = 1 E(𝜖^2) must be 2, and 2 * E(𝜖) is -2 based on our dist.\n",
    "\n",
    "..E(g(x)-ŷ(x))^2) is equal to bias^2 + var as proved in lecture \n",
    "\n",
    "= 1 + bias^2 + var. 1 is correct as the first term because it is the observed variance from the noise, so we get 𝜎2+bias^2 + var, as desired.\n",
    "\n",
    "v) No because our curve is always below the actual given the noise.\n",
    "\n",
    "vi) as n tends to infinity, if g(x) fits perfectly then the model bias can be 0, as we know the sample mean of the estimator approaches the actual parameter. but in the case of how our noise and the sampling is conducted, even with infinite samples that are conducted with sample error like undercoverage, temporally late, the bias is inherently still there, and the parameter we get even with infinite samples is ultimately biased. 𝑋𝜃≈𝑦 in both the finite and infinite case are always inaccurate by potentially an order of magnitude depending on how bad the samples were conducted."
   ]
  },
  {
   "cell_type": "markdown",
   "id": "653f5fdb",
   "metadata": {
    "deletable": false,
    "editable": false
   },
   "source": [
    "<!-- END QUESTION -->\n",
    "\n",
    "### Question 5i\n",
    "\n",
    "Using the bias-variance decomposition for each test point, calculate the average variance and average test mean-square error across the entire test set from part (d). In other words, estimate the following quantities:\n",
    "\n",
    "$$\n",
    "\\frac{1}{n} \\sum_i \\mathrm{Var}(f_\\theta(x_i))\n",
    "$$\n",
    "\n",
    "and\n",
    "\n",
    "$$\n",
    "\\frac{1}{n} \\sum_i \\mathrm{E}_\\theta[(y_i - f_\\theta(x_i))^2]\n",
    "$$\n",
    "\n",
    "<!--\n",
    "BEGIN QUESTION\n",
    "name: q5i\n",
    "points: 5\n",
    "manual: False\n",
    "-->"
   ]
  },
  {
   "cell_type": "code",
   "execution_count": 20,
   "id": "9a207935",
   "metadata": {},
   "outputs": [
    {
     "data": {
      "text/plain": [
       "(1.3455920149156902e-06, 0.0014555280444336388)"
      ]
     },
     "execution_count": 20,
     "metadata": {},
     "output_type": "execute_result"
    }
   ],
   "source": [
    "# all_y is an array of length 1000, with each element being a length 1037 array of predictions for X_q5d_test \n",
    "all_y = np.array(pd.Series(models).apply(lambda model: model.predict(X_q5d_test)))\n",
    "# avg_var is a 1037 length array of the variance for each prediction\n",
    "avg_var = np.mean(np.var(all_y))\n",
    "# all_mse is a 1037 length array, with each element being the MSE for that specific yi point\n",
    "all_mse = [np.mean([(y_q5d_test.iloc[i] - [y[i] for y in all_y])**2]) for i in np.arange(len(y_q5d_test))]\n",
    "# avg_mse takes the average of all the MSE's\n",
    "avg_mse = np.mean(all_mse)\n",
    "\n",
    "avg_var, avg_mse"
   ]
  },
  {
   "cell_type": "code",
   "execution_count": 21,
   "id": "8243a140",
   "metadata": {
    "deletable": false,
    "editable": false
   },
   "outputs": [
    {
     "data": {
      "text/html": [
       "<p><strong><pre style='display: inline;'>q5i</pre></strong> passed!</p>"
      ],
      "text/plain": [
       "q5i results: All test cases passed!"
      ]
     },
     "execution_count": 21,
     "metadata": {},
     "output_type": "execute_result"
    }
   ],
   "source": [
    "grader.check(\"q5i\")"
   ]
  },
  {
   "cell_type": "markdown",
   "id": "15d6f530",
   "metadata": {
    "deletable": false,
    "editable": false
   },
   "source": [
    "<!-- BEGIN QUESTION -->\n",
    "\n",
    "## Question 5j\n",
    "\n",
    "Propose a solution to reducing the mean square error using the insights gained from the bias-variance decomposition above. What are the values of the quantities that have we estimated and what can be concluded about the remaining quantities? Please show all work that informs your analysis.\n",
    "\n",
    "Assume that the standard bias-variance decomposition used in lecture can be applied here.\n",
    "<!--\n",
    "BEGIN QUESTION\n",
    "name: q5j\n",
    "points: 5\n",
    "manual: True\n",
    "-->"
   ]
  },
  {
   "cell_type": "markdown",
   "id": "99bbb2f5",
   "metadata": {},
   "source": [
    "MSE may be reduced by adding in more features that are significant when predicting the response variable. However, we must find a good balance between model bias and variance. Even if MSE is 0 for the training data, the model is not helpful if it is simply overfitting the training data and performs poorly on the test data. Noise is inevitable and can only be reduced to a certain extent, so our only hope is to reduce the bias and variance of the model. We have thus far estimated the mean squared error and variance of the model; we can see that the variance is very low compared to the MSE, so the noise and bias must be quite large."
   ]
  },
  {
   "cell_type": "markdown",
   "id": "e6f0f9b9",
   "metadata": {
    "tags": []
   },
   "source": [
    "<!-- END QUESTION -->\n",
    "\n",
    "\n",
    "\n",
    "<br/><br/><br/>\n",
    "\n",
    "---\n",
    "\n",
    "<br/><br/><br/>\n",
    "\n",
    "## Question 6: Open Supervised Modeling\n",
    "\n",
    "We wish to extend our modeling framework from Question 5 to make it more accurate; in other words, we wish to predict $f(x)$, a supervised learning output, based on past and current quantities. \n",
    "\n",
    "This section will serve as a rough guide on creating an autoregressive modeling framework for predicting a COVID-19 quantity of your choice (i.e. deaths, cases, vaccinations).\n",
    "\n",
    "Note that if you do not wish to pursue time-based modeling of COVID-19, you may skip parts (d), (e), and (f). That being said, you are strongly encouraged to incorporate time-based modeling into your open-ended modeling design since it constitutes a large component of the provided datasets.\n",
    "\n",
    "We will ***not*** grade these below questions individually (i.e. there are no points explicitly assigned to questions 6(a) to 6(f)); they are simply guiding questions and will be graded as part of the final project report. You should make sure to answer all of the questions (that are applicable to your open-ended modeling) in some form in the report."
   ]
  },
  {
   "cell_type": "markdown",
   "id": "4b1e3e64",
   "metadata": {
    "deletable": false,
    "editable": false
   },
   "source": [
    "<!-- BEGIN QUESTION -->\n",
    "\n",
    "### Question 6a\n",
    "\n",
    "Train a baseline model where $f$ is the model described in Question 0a and $x$ is a quantity of *your* choice. Note that you may used *any* supervised learning approach we have studied; you are not limited to a linear model.\n",
    "\n",
    "<!--\n",
    "BEGIN QUESTION\n",
    "name: q6a\n",
    "points: 0\n",
    "manual: True\n",
    "-->"
   ]
  },
  {
   "cell_type": "code",
   "execution_count": 22,
   "id": "85819006",
   "metadata": {},
   "outputs": [
    {
     "data": {
      "text/html": [
       "<div>\n",
       "<style scoped>\n",
       "    .dataframe tbody tr th:only-of-type {\n",
       "        vertical-align: middle;\n",
       "    }\n",
       "\n",
       "    .dataframe tbody tr th {\n",
       "        vertical-align: top;\n",
       "    }\n",
       "\n",
       "    .dataframe thead th {\n",
       "        text-align: right;\n",
       "    }\n",
       "</style>\n",
       "<table border=\"1\" class=\"dataframe\">\n",
       "  <thead>\n",
       "    <tr style=\"text-align: right;\">\n",
       "      <th></th>\n",
       "      <th>GeoFIPS</th>\n",
       "      <th>GeoName</th>\n",
       "      <th>Region</th>\n",
       "      <th>TableName</th>\n",
       "      <th>LineCode</th>\n",
       "      <th>IndustryClassification</th>\n",
       "      <th>Description</th>\n",
       "      <th>Unit</th>\n",
       "      <th>1969</th>\n",
       "      <th>1970</th>\n",
       "      <th>...</th>\n",
       "      <th>2011</th>\n",
       "      <th>2012</th>\n",
       "      <th>2013</th>\n",
       "      <th>2014</th>\n",
       "      <th>2015</th>\n",
       "      <th>2016</th>\n",
       "      <th>2017</th>\n",
       "      <th>2018</th>\n",
       "      <th>2019</th>\n",
       "      <th>2020</th>\n",
       "    </tr>\n",
       "  </thead>\n",
       "  <tbody>\n",
       "    <tr>\n",
       "      <th>0</th>\n",
       "      <td>\"00000\"</td>\n",
       "      <td>United States</td>\n",
       "      <td></td>\n",
       "      <td>CAINC30</td>\n",
       "      <td>10.0</td>\n",
       "      <td>...</td>\n",
       "      <td>Personal income (thousands of dollars)</td>\n",
       "      <td>Thousands of dollars</td>\n",
       "      <td>791229000</td>\n",
       "      <td>855525000</td>\n",
       "      <td>...</td>\n",
       "      <td>13330436000</td>\n",
       "      <td>14003346000</td>\n",
       "      <td>14189228000</td>\n",
       "      <td>14969527000</td>\n",
       "      <td>15681233000</td>\n",
       "      <td>16092713000</td>\n",
       "      <td>16845028000</td>\n",
       "      <td>17681159000</td>\n",
       "      <td>18402004000</td>\n",
       "      <td>19607447000</td>\n",
       "    </tr>\n",
       "    <tr>\n",
       "      <th>31</th>\n",
       "      <td>\"01000\"</td>\n",
       "      <td>Alabama</td>\n",
       "      <td>5</td>\n",
       "      <td>CAINC30</td>\n",
       "      <td>10.0</td>\n",
       "      <td>...</td>\n",
       "      <td>Personal income (thousands of dollars)</td>\n",
       "      <td>Thousands of dollars</td>\n",
       "      <td>9737715</td>\n",
       "      <td>10628318</td>\n",
       "      <td>...</td>\n",
       "      <td>168474324</td>\n",
       "      <td>173361655</td>\n",
       "      <td>175185262</td>\n",
       "      <td>181078773</td>\n",
       "      <td>189115437</td>\n",
       "      <td>192363456</td>\n",
       "      <td>199336413</td>\n",
       "      <td>207053583</td>\n",
       "      <td>215930375</td>\n",
       "      <td>228748804</td>\n",
       "    </tr>\n",
       "    <tr>\n",
       "      <th>62</th>\n",
       "      <td>\"01001\"</td>\n",
       "      <td>Autauga, AL</td>\n",
       "      <td>5</td>\n",
       "      <td>CAINC30</td>\n",
       "      <td>10.0</td>\n",
       "      <td>...</td>\n",
       "      <td>Personal income (thousands of dollars)</td>\n",
       "      <td>Thousands of dollars</td>\n",
       "      <td>69973</td>\n",
       "      <td>77712</td>\n",
       "      <td>...</td>\n",
       "      <td>1916140</td>\n",
       "      <td>1968559</td>\n",
       "      <td>1973126</td>\n",
       "      <td>2045307</td>\n",
       "      <td>2158159</td>\n",
       "      <td>2235416</td>\n",
       "      <td>2308229</td>\n",
       "      <td>2384085</td>\n",
       "      <td>2474364</td>\n",
       "      <td>2628375</td>\n",
       "    </tr>\n",
       "    <tr>\n",
       "      <th>93</th>\n",
       "      <td>\"01003\"</td>\n",
       "      <td>Baldwin, AL</td>\n",
       "      <td>5</td>\n",
       "      <td>CAINC30</td>\n",
       "      <td>10.0</td>\n",
       "      <td>...</td>\n",
       "      <td>Personal income (thousands of dollars)</td>\n",
       "      <td>Thousands of dollars</td>\n",
       "      <td>157191</td>\n",
       "      <td>172745</td>\n",
       "      <td>...</td>\n",
       "      <td>7184451</td>\n",
       "      <td>7375651</td>\n",
       "      <td>7612912</td>\n",
       "      <td>8062553</td>\n",
       "      <td>8629628</td>\n",
       "      <td>9151734</td>\n",
       "      <td>9657577</td>\n",
       "      <td>10228547</td>\n",
       "      <td>10791564</td>\n",
       "      <td>11682821</td>\n",
       "    </tr>\n",
       "    <tr>\n",
       "      <th>124</th>\n",
       "      <td>\"01005\"</td>\n",
       "      <td>Barbour, AL</td>\n",
       "      <td>5</td>\n",
       "      <td>CAINC30</td>\n",
       "      <td>10.0</td>\n",
       "      <td>...</td>\n",
       "      <td>Personal income (thousands of dollars)</td>\n",
       "      <td>Thousands of dollars</td>\n",
       "      <td>51130</td>\n",
       "      <td>57657</td>\n",
       "      <td>...</td>\n",
       "      <td>768645</td>\n",
       "      <td>761473</td>\n",
       "      <td>807108</td>\n",
       "      <td>799375</td>\n",
       "      <td>832944</td>\n",
       "      <td>820434</td>\n",
       "      <td>824519</td>\n",
       "      <td>847742</td>\n",
       "      <td>877107</td>\n",
       "      <td>930687</td>\n",
       "    </tr>\n",
       "    <tr>\n",
       "      <th>...</th>\n",
       "      <td>...</td>\n",
       "      <td>...</td>\n",
       "      <td>...</td>\n",
       "      <td>...</td>\n",
       "      <td>...</td>\n",
       "      <td>...</td>\n",
       "      <td>...</td>\n",
       "      <td>...</td>\n",
       "      <td>...</td>\n",
       "      <td>...</td>\n",
       "      <td>...</td>\n",
       "      <td>...</td>\n",
       "      <td>...</td>\n",
       "      <td>...</td>\n",
       "      <td>...</td>\n",
       "      <td>...</td>\n",
       "      <td>...</td>\n",
       "      <td>...</td>\n",
       "      <td>...</td>\n",
       "      <td>...</td>\n",
       "      <td>...</td>\n",
       "    </tr>\n",
       "    <tr>\n",
       "      <th>99045</th>\n",
       "      <td>\"94000\"</td>\n",
       "      <td>Plains</td>\n",
       "      <td>4.0</td>\n",
       "      <td>CAINC30</td>\n",
       "      <td>10.0</td>\n",
       "      <td>...</td>\n",
       "      <td>Personal income (thousands of dollars)</td>\n",
       "      <td>Thousands of dollars</td>\n",
       "      <td>59315639.0</td>\n",
       "      <td>64334104.0</td>\n",
       "      <td>...</td>\n",
       "      <td>878497013.0</td>\n",
       "      <td>927647321.0</td>\n",
       "      <td>939417657.0</td>\n",
       "      <td>979811342.0</td>\n",
       "      <td>1011992470.0</td>\n",
       "      <td>1024102981.0</td>\n",
       "      <td>1055302122.0</td>\n",
       "      <td>1104158972.0</td>\n",
       "      <td>1142093655.0</td>\n",
       "      <td>1213002671.0</td>\n",
       "    </tr>\n",
       "    <tr>\n",
       "      <th>99076</th>\n",
       "      <td>\"95000\"</td>\n",
       "      <td>Southeast</td>\n",
       "      <td>5.0</td>\n",
       "      <td>CAINC30</td>\n",
       "      <td>10.0</td>\n",
       "      <td>...</td>\n",
       "      <td>Personal income (thousands of dollars)</td>\n",
       "      <td>Thousands of dollars</td>\n",
       "      <td>138939401.0</td>\n",
       "      <td>152550037.0</td>\n",
       "      <td>...</td>\n",
       "      <td>3038507111.0</td>\n",
       "      <td>3173915817.0</td>\n",
       "      <td>3188790838.0</td>\n",
       "      <td>3366606674.0</td>\n",
       "      <td>3539296681.0</td>\n",
       "      <td>3640705117.0</td>\n",
       "      <td>3823894178.0</td>\n",
       "      <td>4012285970.0</td>\n",
       "      <td>4192547392.0</td>\n",
       "      <td>4457671544.0</td>\n",
       "    </tr>\n",
       "    <tr>\n",
       "      <th>99107</th>\n",
       "      <td>\"96000\"</td>\n",
       "      <td>Southwest</td>\n",
       "      <td>6.0</td>\n",
       "      <td>CAINC30</td>\n",
       "      <td>10.0</td>\n",
       "      <td>...</td>\n",
       "      <td>Personal income (thousands of dollars)</td>\n",
       "      <td>Thousands of dollars</td>\n",
       "      <td>56500512.0</td>\n",
       "      <td>62538485.0</td>\n",
       "      <td>...</td>\n",
       "      <td>1528780998.0</td>\n",
       "      <td>1626388019.0</td>\n",
       "      <td>1671537225.0</td>\n",
       "      <td>1790353193.0</td>\n",
       "      <td>1826323936.0</td>\n",
       "      <td>1826527723.0</td>\n",
       "      <td>1942829427.0</td>\n",
       "      <td>2067960023.0</td>\n",
       "      <td>2159950617.0</td>\n",
       "      <td>2283249340.0</td>\n",
       "    </tr>\n",
       "    <tr>\n",
       "      <th>99138</th>\n",
       "      <td>\"97000\"</td>\n",
       "      <td>Rocky Mountain</td>\n",
       "      <td>7.0</td>\n",
       "      <td>CAINC30</td>\n",
       "      <td>10.0</td>\n",
       "      <td>...</td>\n",
       "      <td>Personal income (thousands of dollars)</td>\n",
       "      <td>Thousands of dollars</td>\n",
       "      <td>17805758.0</td>\n",
       "      <td>19931406.0</td>\n",
       "      <td>...</td>\n",
       "      <td>440397654.0</td>\n",
       "      <td>468046266.0</td>\n",
       "      <td>486655179.0</td>\n",
       "      <td>522936789.0</td>\n",
       "      <td>550866913.0</td>\n",
       "      <td>563546400.0</td>\n",
       "      <td>599075848.0</td>\n",
       "      <td>640642684.0</td>\n",
       "      <td>678596332.0</td>\n",
       "      <td>722806077.0</td>\n",
       "    </tr>\n",
       "    <tr>\n",
       "      <th>99169</th>\n",
       "      <td>\"98000\"</td>\n",
       "      <td>Far West</td>\n",
       "      <td>8.0</td>\n",
       "      <td>CAINC30</td>\n",
       "      <td>10.0</td>\n",
       "      <td>...</td>\n",
       "      <td>Personal income (thousands of dollars)</td>\n",
       "      <td>Thousands of dollars</td>\n",
       "      <td>121725092.0</td>\n",
       "      <td>131575529.0</td>\n",
       "      <td>...</td>\n",
       "      <td>2365274172.0</td>\n",
       "      <td>2517584085.0</td>\n",
       "      <td>2558464322.0</td>\n",
       "      <td>2732123675.0</td>\n",
       "      <td>2924969778.0</td>\n",
       "      <td>3053982801.0</td>\n",
       "      <td>3201394128.0</td>\n",
       "      <td>3367569391.0</td>\n",
       "      <td>3527996046.0</td>\n",
       "      <td>3816145032.0</td>\n",
       "    </tr>\n",
       "  </tbody>\n",
       "</table>\n",
       "<p>3200 rows × 60 columns</p>\n",
       "</div>"
      ],
      "text/plain": [
       "        GeoFIPS         GeoName Region TableName  LineCode  \\\n",
       "0       \"00000\"   United States          CAINC30      10.0   \n",
       "31      \"01000\"         Alabama      5   CAINC30      10.0   \n",
       "62      \"01001\"     Autauga, AL      5   CAINC30      10.0   \n",
       "93      \"01003\"     Baldwin, AL      5   CAINC30      10.0   \n",
       "124     \"01005\"     Barbour, AL      5   CAINC30      10.0   \n",
       "...         ...             ...    ...       ...       ...   \n",
       "99045   \"94000\"          Plains    4.0   CAINC30      10.0   \n",
       "99076   \"95000\"       Southeast    5.0   CAINC30      10.0   \n",
       "99107   \"96000\"       Southwest    6.0   CAINC30      10.0   \n",
       "99138   \"97000\"  Rocky Mountain    7.0   CAINC30      10.0   \n",
       "99169   \"98000\"        Far West    8.0   CAINC30      10.0   \n",
       "\n",
       "      IndustryClassification                             Description  \\\n",
       "0                        ...  Personal income (thousands of dollars)   \n",
       "31                       ...  Personal income (thousands of dollars)   \n",
       "62                       ...  Personal income (thousands of dollars)   \n",
       "93                       ...  Personal income (thousands of dollars)   \n",
       "124                      ...  Personal income (thousands of dollars)   \n",
       "...                      ...                                     ...   \n",
       "99045                    ...  Personal income (thousands of dollars)   \n",
       "99076                    ...  Personal income (thousands of dollars)   \n",
       "99107                    ...  Personal income (thousands of dollars)   \n",
       "99138                    ...  Personal income (thousands of dollars)   \n",
       "99169                    ...  Personal income (thousands of dollars)   \n",
       "\n",
       "                       Unit         1969         1970  ...          2011  \\\n",
       "0      Thousands of dollars    791229000    855525000  ...   13330436000   \n",
       "31     Thousands of dollars      9737715     10628318  ...     168474324   \n",
       "62     Thousands of dollars        69973        77712  ...       1916140   \n",
       "93     Thousands of dollars       157191       172745  ...       7184451   \n",
       "124    Thousands of dollars        51130        57657  ...        768645   \n",
       "...                     ...          ...          ...  ...           ...   \n",
       "99045  Thousands of dollars   59315639.0   64334104.0  ...   878497013.0   \n",
       "99076  Thousands of dollars  138939401.0  152550037.0  ...  3038507111.0   \n",
       "99107  Thousands of dollars   56500512.0   62538485.0  ...  1528780998.0   \n",
       "99138  Thousands of dollars   17805758.0   19931406.0  ...   440397654.0   \n",
       "99169  Thousands of dollars  121725092.0  131575529.0  ...  2365274172.0   \n",
       "\n",
       "               2012          2013          2014          2015          2016  \\\n",
       "0       14003346000   14189228000   14969527000   15681233000   16092713000   \n",
       "31        173361655     175185262     181078773     189115437     192363456   \n",
       "62          1968559       1973126       2045307       2158159       2235416   \n",
       "93          7375651       7612912       8062553       8629628       9151734   \n",
       "124          761473        807108        799375        832944        820434   \n",
       "...             ...           ...           ...           ...           ...   \n",
       "99045   927647321.0   939417657.0   979811342.0  1011992470.0  1024102981.0   \n",
       "99076  3173915817.0  3188790838.0  3366606674.0  3539296681.0  3640705117.0   \n",
       "99107  1626388019.0  1671537225.0  1790353193.0  1826323936.0  1826527723.0   \n",
       "99138   468046266.0   486655179.0   522936789.0   550866913.0   563546400.0   \n",
       "99169  2517584085.0  2558464322.0  2732123675.0  2924969778.0  3053982801.0   \n",
       "\n",
       "               2017          2018          2019          2020  \n",
       "0       16845028000   17681159000   18402004000   19607447000  \n",
       "31        199336413     207053583     215930375     228748804  \n",
       "62          2308229       2384085       2474364       2628375  \n",
       "93          9657577      10228547      10791564      11682821  \n",
       "124          824519        847742        877107        930687  \n",
       "...             ...           ...           ...           ...  \n",
       "99045  1055302122.0  1104158972.0  1142093655.0  1213002671.0  \n",
       "99076  3823894178.0  4012285970.0  4192547392.0  4457671544.0  \n",
       "99107  1942829427.0  2067960023.0  2159950617.0  2283249340.0  \n",
       "99138   599075848.0   640642684.0   678596332.0   722806077.0  \n",
       "99169  3201394128.0  3367569391.0  3527996046.0  3816145032.0  \n",
       "\n",
       "[3200 rows x 60 columns]"
      ]
     },
     "execution_count": 22,
     "metadata": {},
     "output_type": "execute_result"
    }
   ],
   "source": [
    "gdps = pd.read_csv('data/gdp per county.csv') #getting the gdps per county in terms of personal income from an external data set\n",
    "#https://apps.bea.gov/regional/downloadzip.cfm → download the CAINC30 Economic Profile by County in the Personal Income bar.\n",
    "gdps=gdps[gdps['Description']=='Personal income (thousands of dollars)']\n",
    "gdps"
   ]
  },
  {
   "cell_type": "code",
   "execution_count": 23,
   "id": "e79e5724-8f4b-43f3-9dbf-cd6a1636fdd6",
   "metadata": {},
   "outputs": [
    {
     "data": {
      "text/html": [
       "<div>\n",
       "<style scoped>\n",
       "    .dataframe tbody tr th:only-of-type {\n",
       "        vertical-align: middle;\n",
       "    }\n",
       "\n",
       "    .dataframe tbody tr th {\n",
       "        vertical-align: top;\n",
       "    }\n",
       "\n",
       "    .dataframe thead th {\n",
       "        text-align: right;\n",
       "    }\n",
       "</style>\n",
       "<table border=\"1\" class=\"dataframe\">\n",
       "  <thead>\n",
       "    <tr style=\"text-align: right;\">\n",
       "      <th></th>\n",
       "      <th>COUNTYFP</th>\n",
       "      <th>NEVER</th>\n",
       "      <th>RARELY</th>\n",
       "      <th>SOMETIMES</th>\n",
       "      <th>FREQUENTLY</th>\n",
       "      <th>ALWAYS</th>\n",
       "      <th>SUMLEV</th>\n",
       "      <th>REGION</th>\n",
       "      <th>DIVISION</th>\n",
       "      <th>STATE</th>\n",
       "      <th>...</th>\n",
       "      <th>9/5/21</th>\n",
       "      <th>9/6/21</th>\n",
       "      <th>9/7/21</th>\n",
       "      <th>9/8/21</th>\n",
       "      <th>9/9/21</th>\n",
       "      <th>9/10/21</th>\n",
       "      <th>9/11/21</th>\n",
       "      <th>9/12/21</th>\n",
       "      <th>GeoFIPS</th>\n",
       "      <th>2020</th>\n",
       "    </tr>\n",
       "  </thead>\n",
       "  <tbody>\n",
       "    <tr>\n",
       "      <th>0</th>\n",
       "      <td>1001</td>\n",
       "      <td>0.053</td>\n",
       "      <td>0.074</td>\n",
       "      <td>0.134</td>\n",
       "      <td>0.295</td>\n",
       "      <td>0.444</td>\n",
       "      <td>50</td>\n",
       "      <td>3</td>\n",
       "      <td>6</td>\n",
       "      <td>1</td>\n",
       "      <td>...</td>\n",
       "      <td>9012</td>\n",
       "      <td>9048</td>\n",
       "      <td>9063</td>\n",
       "      <td>9108</td>\n",
       "      <td>9145</td>\n",
       "      <td>9207</td>\n",
       "      <td>9246</td>\n",
       "      <td>9287</td>\n",
       "      <td>1001</td>\n",
       "      <td>46.814053</td>\n",
       "    </tr>\n",
       "    <tr>\n",
       "      <th>1</th>\n",
       "      <td>1003</td>\n",
       "      <td>0.083</td>\n",
       "      <td>0.059</td>\n",
       "      <td>0.098</td>\n",
       "      <td>0.323</td>\n",
       "      <td>0.436</td>\n",
       "      <td>50</td>\n",
       "      <td>3</td>\n",
       "      <td>6</td>\n",
       "      <td>1</td>\n",
       "      <td>...</td>\n",
       "      <td>34063</td>\n",
       "      <td>34142</td>\n",
       "      <td>34246</td>\n",
       "      <td>34393</td>\n",
       "      <td>34536</td>\n",
       "      <td>34726</td>\n",
       "      <td>34872</td>\n",
       "      <td>34950</td>\n",
       "      <td>1003</td>\n",
       "      <td>50.952828</td>\n",
       "    </tr>\n",
       "    <tr>\n",
       "      <th>2</th>\n",
       "      <td>1005</td>\n",
       "      <td>0.067</td>\n",
       "      <td>0.121</td>\n",
       "      <td>0.120</td>\n",
       "      <td>0.201</td>\n",
       "      <td>0.491</td>\n",
       "      <td>50</td>\n",
       "      <td>3</td>\n",
       "      <td>6</td>\n",
       "      <td>1</td>\n",
       "      <td>...</td>\n",
       "      <td>3184</td>\n",
       "      <td>3197</td>\n",
       "      <td>3207</td>\n",
       "      <td>3225</td>\n",
       "      <td>3243</td>\n",
       "      <td>3260</td>\n",
       "      <td>3282</td>\n",
       "      <td>3295</td>\n",
       "      <td>1005</td>\n",
       "      <td>37.849730</td>\n",
       "    </tr>\n",
       "    <tr>\n",
       "      <th>3</th>\n",
       "      <td>1007</td>\n",
       "      <td>0.020</td>\n",
       "      <td>0.034</td>\n",
       "      <td>0.096</td>\n",
       "      <td>0.278</td>\n",
       "      <td>0.572</td>\n",
       "      <td>50</td>\n",
       "      <td>3</td>\n",
       "      <td>6</td>\n",
       "      <td>1</td>\n",
       "      <td>...</td>\n",
       "      <td>3628</td>\n",
       "      <td>3641</td>\n",
       "      <td>3661</td>\n",
       "      <td>3694</td>\n",
       "      <td>3727</td>\n",
       "      <td>3752</td>\n",
       "      <td>3778</td>\n",
       "      <td>3795</td>\n",
       "      <td>1007</td>\n",
       "      <td>34.300235</td>\n",
       "    </tr>\n",
       "    <tr>\n",
       "      <th>4</th>\n",
       "      <td>1009</td>\n",
       "      <td>0.053</td>\n",
       "      <td>0.114</td>\n",
       "      <td>0.180</td>\n",
       "      <td>0.194</td>\n",
       "      <td>0.459</td>\n",
       "      <td>50</td>\n",
       "      <td>3</td>\n",
       "      <td>6</td>\n",
       "      <td>1</td>\n",
       "      <td>...</td>\n",
       "      <td>8862</td>\n",
       "      <td>8899</td>\n",
       "      <td>8951</td>\n",
       "      <td>8998</td>\n",
       "      <td>9048</td>\n",
       "      <td>9095</td>\n",
       "      <td>9161</td>\n",
       "      <td>9176</td>\n",
       "      <td>1009</td>\n",
       "      <td>38.807685</td>\n",
       "    </tr>\n",
       "    <tr>\n",
       "      <th>...</th>\n",
       "      <td>...</td>\n",
       "      <td>...</td>\n",
       "      <td>...</td>\n",
       "      <td>...</td>\n",
       "      <td>...</td>\n",
       "      <td>...</td>\n",
       "      <td>...</td>\n",
       "      <td>...</td>\n",
       "      <td>...</td>\n",
       "      <td>...</td>\n",
       "      <td>...</td>\n",
       "      <td>...</td>\n",
       "      <td>...</td>\n",
       "      <td>...</td>\n",
       "      <td>...</td>\n",
       "      <td>...</td>\n",
       "      <td>...</td>\n",
       "      <td>...</td>\n",
       "      <td>...</td>\n",
       "      <td>...</td>\n",
       "      <td>...</td>\n",
       "    </tr>\n",
       "    <tr>\n",
       "      <th>3083</th>\n",
       "      <td>56037</td>\n",
       "      <td>0.061</td>\n",
       "      <td>0.295</td>\n",
       "      <td>0.230</td>\n",
       "      <td>0.146</td>\n",
       "      <td>0.268</td>\n",
       "      <td>50</td>\n",
       "      <td>4</td>\n",
       "      <td>8</td>\n",
       "      <td>56</td>\n",
       "      <td>...</td>\n",
       "      <td>5791</td>\n",
       "      <td>5791</td>\n",
       "      <td>5929</td>\n",
       "      <td>5970</td>\n",
       "      <td>6034</td>\n",
       "      <td>6111</td>\n",
       "      <td>6111</td>\n",
       "      <td>6111</td>\n",
       "      <td>56037</td>\n",
       "      <td>54.000234</td>\n",
       "    </tr>\n",
       "    <tr>\n",
       "      <th>3084</th>\n",
       "      <td>56039</td>\n",
       "      <td>0.095</td>\n",
       "      <td>0.157</td>\n",
       "      <td>0.160</td>\n",
       "      <td>0.247</td>\n",
       "      <td>0.340</td>\n",
       "      <td>50</td>\n",
       "      <td>4</td>\n",
       "      <td>8</td>\n",
       "      <td>56</td>\n",
       "      <td>...</td>\n",
       "      <td>4502</td>\n",
       "      <td>4502</td>\n",
       "      <td>4568</td>\n",
       "      <td>4572</td>\n",
       "      <td>4587</td>\n",
       "      <td>4611</td>\n",
       "      <td>4611</td>\n",
       "      <td>4611</td>\n",
       "      <td>56039</td>\n",
       "      <td>220.644891</td>\n",
       "    </tr>\n",
       "    <tr>\n",
       "      <th>3085</th>\n",
       "      <td>56041</td>\n",
       "      <td>0.098</td>\n",
       "      <td>0.278</td>\n",
       "      <td>0.154</td>\n",
       "      <td>0.207</td>\n",
       "      <td>0.264</td>\n",
       "      <td>50</td>\n",
       "      <td>4</td>\n",
       "      <td>8</td>\n",
       "      <td>56</td>\n",
       "      <td>...</td>\n",
       "      <td>3053</td>\n",
       "      <td>3053</td>\n",
       "      <td>3086</td>\n",
       "      <td>3141</td>\n",
       "      <td>3168</td>\n",
       "      <td>3204</td>\n",
       "      <td>3204</td>\n",
       "      <td>3204</td>\n",
       "      <td>56041</td>\n",
       "      <td>42.853821</td>\n",
       "    </tr>\n",
       "    <tr>\n",
       "      <th>3086</th>\n",
       "      <td>56043</td>\n",
       "      <td>0.204</td>\n",
       "      <td>0.155</td>\n",
       "      <td>0.069</td>\n",
       "      <td>0.285</td>\n",
       "      <td>0.287</td>\n",
       "      <td>50</td>\n",
       "      <td>4</td>\n",
       "      <td>8</td>\n",
       "      <td>56</td>\n",
       "      <td>...</td>\n",
       "      <td>1080</td>\n",
       "      <td>1080</td>\n",
       "      <td>1087</td>\n",
       "      <td>1104</td>\n",
       "      <td>1111</td>\n",
       "      <td>1120</td>\n",
       "      <td>1120</td>\n",
       "      <td>1120</td>\n",
       "      <td>56043</td>\n",
       "      <td>54.361340</td>\n",
       "    </tr>\n",
       "    <tr>\n",
       "      <th>3087</th>\n",
       "      <td>56045</td>\n",
       "      <td>0.142</td>\n",
       "      <td>0.129</td>\n",
       "      <td>0.148</td>\n",
       "      <td>0.207</td>\n",
       "      <td>0.374</td>\n",
       "      <td>50</td>\n",
       "      <td>4</td>\n",
       "      <td>8</td>\n",
       "      <td>56</td>\n",
       "      <td>...</td>\n",
       "      <td>802</td>\n",
       "      <td>802</td>\n",
       "      <td>813</td>\n",
       "      <td>821</td>\n",
       "      <td>824</td>\n",
       "      <td>829</td>\n",
       "      <td>829</td>\n",
       "      <td>829</td>\n",
       "      <td>56045</td>\n",
       "      <td>47.598992</td>\n",
       "    </tr>\n",
       "  </tbody>\n",
       "</table>\n",
       "<p>3088 rows × 640 columns</p>\n",
       "</div>"
      ],
      "text/plain": [
       "      COUNTYFP  NEVER  RARELY  SOMETIMES  FREQUENTLY  ALWAYS  SUMLEV  REGION  \\\n",
       "0         1001  0.053   0.074      0.134       0.295   0.444      50       3   \n",
       "1         1003  0.083   0.059      0.098       0.323   0.436      50       3   \n",
       "2         1005  0.067   0.121      0.120       0.201   0.491      50       3   \n",
       "3         1007  0.020   0.034      0.096       0.278   0.572      50       3   \n",
       "4         1009  0.053   0.114      0.180       0.194   0.459      50       3   \n",
       "...        ...    ...     ...        ...         ...     ...     ...     ...   \n",
       "3083     56037  0.061   0.295      0.230       0.146   0.268      50       4   \n",
       "3084     56039  0.095   0.157      0.160       0.247   0.340      50       4   \n",
       "3085     56041  0.098   0.278      0.154       0.207   0.264      50       4   \n",
       "3086     56043  0.204   0.155      0.069       0.285   0.287      50       4   \n",
       "3087     56045  0.142   0.129      0.148       0.207   0.374      50       4   \n",
       "\n",
       "      DIVISION  STATE  ...  9/5/21 9/6/21 9/7/21 9/8/21  9/9/21  9/10/21  \\\n",
       "0            6      1  ...    9012   9048   9063   9108    9145     9207   \n",
       "1            6      1  ...   34063  34142  34246  34393   34536    34726   \n",
       "2            6      1  ...    3184   3197   3207   3225    3243     3260   \n",
       "3            6      1  ...    3628   3641   3661   3694    3727     3752   \n",
       "4            6      1  ...    8862   8899   8951   8998    9048     9095   \n",
       "...        ...    ...  ...     ...    ...    ...    ...     ...      ...   \n",
       "3083         8     56  ...    5791   5791   5929   5970    6034     6111   \n",
       "3084         8     56  ...    4502   4502   4568   4572    4587     4611   \n",
       "3085         8     56  ...    3053   3053   3086   3141    3168     3204   \n",
       "3086         8     56  ...    1080   1080   1087   1104    1111     1120   \n",
       "3087         8     56  ...     802    802    813    821     824      829   \n",
       "\n",
       "      9/11/21  9/12/21  GeoFIPS        2020  \n",
       "0        9246     9287     1001   46.814053  \n",
       "1       34872    34950     1003   50.952828  \n",
       "2        3282     3295     1005   37.849730  \n",
       "3        3778     3795     1007   34.300235  \n",
       "4        9161     9176     1009   38.807685  \n",
       "...       ...      ...      ...         ...  \n",
       "3083     6111     6111    56037   54.000234  \n",
       "3084     4611     4611    56039  220.644891  \n",
       "3085     3204     3204    56041   42.853821  \n",
       "3086     1120     1120    56043   54.361340  \n",
       "3087      829      829    56045   47.598992  \n",
       "\n",
       "[3088 rows x 640 columns]"
      ]
     },
     "execution_count": 23,
     "metadata": {},
     "output_type": "execute_result"
    }
   ],
   "source": [
    "#adding a feature from outside data set and doing cleaning\n",
    "\n",
    "gdps = gdps.dropna()\n",
    "gdps= gdps[gdps['2020'] != \"(NA)\"]\n",
    "gdps['GeoFIPS'] = gdps['GeoFIPS'].str.replace('\"', \"\")\n",
    "gdps['GeoFIPS'] = gdps['GeoFIPS'].astype(int)\n",
    "gdps['2020'] =pd.to_numeric(gdps['2020'])\n",
    "gdps = gdps[['GeoFIPS','2020']]\n",
    "gdps= gdps.groupby('GeoFIPS').agg('sum').reset_index()\n",
    "gdps = county_data.merge(gdps, how='inner', left_on='COUNTYFP', right_on ='GeoFIPS') \n",
    "gdps['2020'] = gdps['2020'] / gdps['POPESTIMATE2020']\n",
    "gdps\n",
    "#THE COLUMN 2020 IS THE GDP FOR THAT COUNTY PER CAPITA FOR THE YEAR 2020 IN THOUSANDS OF DOLLARS"
   ]
  },
  {
   "cell_type": "code",
   "execution_count": 24,
   "id": "4f56e67e-d0fc-43a1-9a0c-933f755db17b",
   "metadata": {},
   "outputs": [
    {
     "data": {
      "text/plain": [
       "43.0"
      ]
     },
     "execution_count": 24,
     "metadata": {},
     "output_type": "execute_result"
    }
   ],
   "source": [
    "poor = np.round(np.percentile(gdps['2020'], 33.3))\n",
    "mid_to_upper = np.round(np.percentile(gdps['2020'], 66.7))\n",
    "poor"
   ]
  },
  {
   "cell_type": "code",
   "execution_count": 25,
   "id": "aca41714-c52f-4275-b3d2-19e4e0dd347e",
   "metadata": {},
   "outputs": [
    {
     "data": {
      "text/plain": [
       "0             Middle\n",
       "1             Middle\n",
       "2               Poor\n",
       "3               Poor\n",
       "4               Poor\n",
       "            ...     \n",
       "3083    mid_to_upper\n",
       "3084    mid_to_upper\n",
       "3085            Poor\n",
       "3086    mid_to_upper\n",
       "3087          Middle\n",
       "Name: class, Length: 3088, dtype: object"
      ]
     },
     "execution_count": 25,
     "metadata": {},
     "output_type": "execute_result"
    }
   ],
   "source": [
    "def wealth(x): #a helper function to classify \n",
    "    if x <= poor:\n",
    "        return 'Poor'\n",
    "    elif (x > poor and x <= mid_to_upper):\n",
    "        return 'Middle'\n",
    "    else:\n",
    "        return 'mid_to_upper'\n",
    "wealthy = [wealth(i) for i in gdps['2020']]\n",
    "gdps['class'] = wealthy\n",
    "gdps['class']"
   ]
  },
  {
   "cell_type": "code",
   "execution_count": 26,
   "id": "00a2db1b-9fa1-4d62-a15d-1b8514d2d054",
   "metadata": {},
   "outputs": [],
   "source": [
    "# Calculate the 33.3 and 66.7 percentile values\n",
    "q1 = np.percentile(county_data['POPESTIMATE2020'], 33.3)\n",
    "q2 = np.percentile(county_data['POPESTIMATE2020'], 66.7)\n",
    "\n",
    "# A dummy helper function to help assign what quantile a county belongs in\n",
    "def helper(x):\n",
    "    if x <= q1:\n",
    "        return 'Small'\n",
    "    elif (x > q1 and x <= q2):\n",
    "        return 'Medium'\n",
    "    else:\n",
    "        return 'Large'\n",
    "gdps['size'] = [helper(i) for i in gdps['POPESTIMATE2020']]"
   ]
  },
  {
   "cell_type": "code",
   "execution_count": 27,
   "id": "0fd6e07f-4d78-4e52-b301-b71824114da7",
   "metadata": {},
   "outputs": [],
   "source": [
    "gdps['total infections'] = gdps['9/12/21']\n",
    "gdps['Cases per Capita'] = gdps['total infections']/gdps['POPESTIMATE2020']\n",
    "gdps = gdps[gdps['POPESTIMATE2020'] <10**5] #remove huge counties\n",
    "gdps['GDP per capita (in thousands)'] = np.round(gdps['2020'])\n",
    "gdps = gdps[gdps['GDP per capita (in thousands)'] < 120] #remove outliers\n"
   ]
  },
  {
   "cell_type": "code",
   "execution_count": 28,
   "id": "86576428-acab-4f99-a23f-5556e3c285d3",
   "metadata": {},
   "outputs": [
    {
     "data": {
      "text/plain": [
       "<AxesSubplot:title={'center':'Overlaid Contour plot (prediction) & Scatter plot (Actual) of GDP per capita vs Cases per Capita'}, xlabel='GDP per capita (in thousands)', ylabel='Cases per Capita'>"
      ]
     },
     "execution_count": 28,
     "metadata": {},
     "output_type": "execute_result"
    },
    {
     "data": {
      "image/png": "[encoded data removed]",
      "text/plain": [
       "<Figure size 1440x720 with 1 Axes>"
      ]
     },
     "metadata": {
      "needs_background": "light"
     },
     "output_type": "display_data"
    }
   ],
   "source": [
    "from matplotlib.colors import ListedColormap\n",
    "from sklearn import ensemble\n",
    "sns_cmap = ListedColormap(np.array(sns.color_palette())[0:3, :])\n",
    "size_train, size_test = train_test_split(gdps, test_size=0.25, random_state=100)\n",
    "random_forest_model = ensemble.RandomForestClassifier(n_estimators=20,random_state=42)\n",
    "random_forest_model = random_forest_model.fit(size_train[['GDP per capita (in thousands)','Cases per Capita']],size_train['size'])\n",
    "xx, yy = np.meshgrid(np.arange(0,150, 30), np.arange(0, 1, 0.02))\n",
    "Z_string = random_forest_model.predict(np.c_[xx.ravel(), yy.ravel()])\n",
    "categories, Z_int = np.unique(Z_string, return_inverse = True)\n",
    "Z_int = Z_int.reshape(xx.shape)\n",
    "plt.figure(figsize=(20,10))\n",
    "plt.title('Overlaid Contour plot (prediction) & Scatter plot (Actual) of GDP per capita vs Cases per Capita')\n",
    "plt.contourf(xx, yy, Z_int, cmap = sns_cmap)\n",
    "sns.scatterplot(data = gdps, x = 'GDP per capita (in thousands)', y = 'Cases per Capita', hue = 'size')"
   ]
  },
  {
   "cell_type": "code",
   "execution_count": 29,
   "id": "2d8941a2-ed15-4624-b6d4-80bf80a9ec92",
   "metadata": {},
   "outputs": [
    {
     "name": "stdout",
     "output_type": "stream",
     "text": [
      "Accuracy: 0.410 (0.020)\n"
     ]
    }
   ],
   "source": [
    "from sklearn.model_selection import cross_val_predict,cross_val_score,RepeatedStratifiedKFold\n",
    "cv = RepeatedStratifiedKFold(n_splits=5, n_repeats=5, random_state=42) #perform 5 fold cv, show the mean of scores as our accuracy for our classifier\n",
    "size_train, size_test = train_test_split(gdps, test_size=0.25, random_state=100)\n",
    "random_forest_model = ensemble.RandomForestClassifier(n_estimators=20,random_state=42)\n",
    "random_forest_model = random_forest_model.fit(size_train[['GDP per capita (in thousands)','Cases per Capita']],size_train['size'])\n",
    "cv_scores = cross_val_score(random_forest_model, size_train[['GDP per capita (in thousands)','Cases per Capita']], size_train['size'], cv=cv)\n",
    "print('Accuracy: %.3f (%.3f)' % (np.mean(cv_scores), np.std(cv_scores)))\n",
    "untuned_ran_forest = np.mean(cv_scores)"
   ]
  },
  {
   "cell_type": "code",
   "execution_count": 30,
   "id": "8794a660-af7e-4f3c-94d0-eff32fbaf841",
   "metadata": {},
   "outputs": [
    {
     "data": {
      "text/plain": [
       "(0.9865879828326181, 0.3987138263665595)"
      ]
     },
     "execution_count": 30,
     "metadata": {},
     "output_type": "execute_result"
    }
   ],
   "source": [
    "rf_train_accuracy = random_forest_model.score(size_train[['GDP per capita (in thousands)','Cases per Capita']],size_train['size'])\n",
    "rf_test_accuracy = random_forest_model.score(size_test[['GDP per capita (in thousands)','Cases per Capita']],size_test['size'])\n",
    "rf_train_accuracy, rf_test_accuracy"
   ]
  },
  {
   "cell_type": "code",
   "execution_count": 31,
   "id": "aff60986-9cf3-4e43-b519-2d123eecedb5",
   "metadata": {},
   "outputs": [
    {
     "data": {
      "image/png": "[encoded data removed]",
      "text/plain": [
       "<Figure size 432x288 with 1 Axes>"
      ]
     },
     "metadata": {
      "needs_background": "light"
     },
     "output_type": "display_data"
    }
   ],
   "source": [
    "train_accuracy = [ rf_train_accuracy, rf_test_accuracy] # this is our model without any tuning, it is very bad\n",
    "\n",
    "df = pd.DataFrame([\n",
    "                   (rf_train_accuracy, rf_test_accuracy)], \n",
    "                  columns=['Training Accuracy', 'Test Accuracy'],)\n",
    "df.plot.bar();"
   ]
  },
  {
   "cell_type": "markdown",
   "id": "1a3b8a40",
   "metadata": {
    "deletable": false,
    "editable": false
   },
   "source": [
    "<!-- END QUESTION -->\n",
    "\n",
    "<!-- BEGIN QUESTION -->\n",
    "\n",
    "### Question 6b\n",
    "\n",
    "Improve your model from part (a). Specify the supervised model you choose and write $f(x)$ as a function of the chosen features and parameters in your model. Justify why you chose these features and how you expect they will correlate with the output you wish to predict.\n",
    "\n",
    "<!--\n",
    "BEGIN QUESTION\n",
    "name: q6b\n",
    "points: 0\n",
    "manual: True\n",
    "-->"
   ]
  },
  {
   "cell_type": "code",
   "execution_count": 32,
   "id": "c80bef13-26c6-465f-ae6c-ff22075af969",
   "metadata": {},
   "outputs": [
    {
     "data": {
      "text/plain": [
       "\"\\nThe equation for a random forest would follow this \\nprediction = rf.predict(test), fitted on random_forest_model.fit(size_train[['GDP per capita (in thousands)','Cases per Capita']],size_train['size'])\\nWe chose these features because we thought a cases per capita and gdp per capita could characterize the size of a county. \\nWe operated under this assumption\\nthat large counties might have more gdp and have less cases per capita because of increased funding for testing and preventive measures and vice versa\\nfor small counties.\\n\""
      ]
     },
     "execution_count": 32,
     "metadata": {},
     "output_type": "execute_result"
    }
   ],
   "source": [
    "\"\"\"\n",
    "The equation for a random forest would follow this \n",
    "prediction = rf.predict(test), fitted on random_forest_model.fit(size_train[['GDP per capita (in thousands)','Cases per Capita']],size_train['size'])\n",
    "We chose these features because we thought a cases per capita and gdp per capita could characterize the size of a county. \n",
    "We operated under this assumption\n",
    "that large counties might have more gdp and have less cases per capita because of increased funding for testing and preventive measures and vice versa\n",
    "for small counties.\n",
    "\"\"\"\n"
   ]
  },
  {
   "cell_type": "code",
   "execution_count": 33,
   "id": "0ab91b78",
   "metadata": {},
   "outputs": [],
   "source": [
    "size_train, size_test = train_test_split(gdps, test_size=0.3, random_state=100)\n",
    "random_forest_model = ensemble.RandomForestClassifier(n_estimators=100,random_state=42,max_depth=4)\n",
    "random_forest_model = random_forest_model.fit(size_train[['GDP per capita (in thousands)','Cases per Capita']],size_train['size'])"
   ]
  },
  {
   "cell_type": "code",
   "execution_count": 34,
   "id": "3c5bc2c3-7a4b-4b15-a7c4-c059994fc5e1",
   "metadata": {},
   "outputs": [
    {
     "name": "stdout",
     "output_type": "stream",
     "text": [
      "Accuracy: 0.474 (0.029)\n"
     ]
    }
   ],
   "source": [
    "cv = RepeatedStratifiedKFold(n_splits=5, n_repeats=5, random_state=42)\n",
    "cv_scores = cross_val_score(random_forest_model, size_test[['GDP per capita (in thousands)','Cases per Capita']], size_test['size'], cv=cv)\n",
    "print('Accuracy: %.3f (%.3f)' % (np.mean(cv_scores), np.std(cv_scores)))\n",
    "tuned_ran_forest = np.mean(cv_scores)"
   ]
  },
  {
   "cell_type": "code",
   "execution_count": 35,
   "id": "6371ea0d-c4e2-4a11-9503-22d18fc339e8",
   "metadata": {},
   "outputs": [
    {
     "data": {
      "text/plain": [
       "(0.5396551724137931, 0.4785522788203753)"
      ]
     },
     "execution_count": 35,
     "metadata": {},
     "output_type": "execute_result"
    }
   ],
   "source": [
    "rf_train_accuracy = random_forest_model.score(size_train[['GDP per capita (in thousands)','Cases per Capita']],size_train['size'])\n",
    "rf_test_accuracy = random_forest_model.score(size_test[['GDP per capita (in thousands)','Cases per Capita']],size_test['size'])\n",
    "rf_train_accuracy, rf_test_accuracy"
   ]
  },
  {
   "cell_type": "code",
   "execution_count": 36,
   "id": "4dab82e3-d947-4d65-9e02-262db9efd20f",
   "metadata": {},
   "outputs": [
    {
     "data": {
      "image/png": "[encoded data removed]",
      "text/plain": [
       "<Figure size 432x288 with 1 Axes>"
      ]
     },
     "metadata": {
      "needs_background": "light"
     },
     "output_type": "display_data"
    }
   ],
   "source": [
    "train_accuracy = [ rf_train_accuracy, rf_test_accuracy] #this is our orignal mode's accuracy after tuning the parameters.\n",
    "\n",
    "df = pd.DataFrame([\n",
    "                   (rf_train_accuracy, rf_test_accuracy)], \n",
    "                  columns=['Training Accuracy', 'Test Accuracy'],)\n",
    "df.plot.bar();"
   ]
  },
  {
   "cell_type": "markdown",
   "id": "f28de6f8",
   "metadata": {
    "deletable": false,
    "editable": false
   },
   "source": [
    "<!-- END QUESTION -->\n",
    "\n",
    "<!-- BEGIN QUESTION -->\n",
    "\n",
    "### Question 6c\n",
    "\n",
    "If applicable, write an equation or rule for the prediction function $f(x)$; if this is infeasible, make sure to visualize your model parameters in some way. Interpret your improved model's optimal parameters (*hint*: refer to 1aiii), and compare these parameters to those of the baseline model. Comment on whether the parameters follow physical intuition given the nature of the prediction task.\n",
    "\n",
    "For example, if you chose to use a decision tree, you may interpret the generated rules.\n",
    " \n",
    "<!--\n",
    "BEGIN QUESTION\n",
    "name: q6c\n",
    "points: 0\n",
    "manual: True\n",
    "-->"
   ]
  },
  {
   "cell_type": "markdown",
   "id": "df0defa5",
   "metadata": {},
   "source": [
    "The random forest tree must have de-correlated trees, and there is no meaningful prediction function equation here besides the indicator functions that decide the splits."
   ]
  },
  {
   "cell_type": "code",
   "execution_count": 37,
   "id": "7bc019f2-b1b9-4bd8-8d6c-68da7e186edd",
   "metadata": {},
   "outputs": [],
   "source": [
    "gdps1=gdps.copy()\n",
    "def helper1(x): #we will split the counties to just being Small and Big, Small being <= a third of the counties and vice versa for Big counties.\n",
    "    if x <= q1:\n",
    "        return 'Small'\n",
    "    else:\n",
    "        return 'Big'\n",
    "gdps1['size'] = [helper1(i) for i in gdps1['POPESTIMATE2020']]"
   ]
  },
  {
   "cell_type": "code",
   "execution_count": 38,
   "id": "7c094ec0-0cc2-483e-88fb-d8339697804b",
   "metadata": {},
   "outputs": [
    {
     "data": {
      "text/plain": [
       "<AxesSubplot:title={'center':'Overlaid Contour plot (prediction) & Scatter plot (Actual) of GDP per capita vs Cases per Capita'}, xlabel='GDP per capita (in thousands)', ylabel='Cases per Capita'>"
      ]
     },
     "execution_count": 38,
     "metadata": {},
     "output_type": "execute_result"
    },
    {
     "data": {
      "image/png": "[encoded data removed]",
      "text/plain": [
       "<Figure size 1440x720 with 1 Axes>"
      ]
     },
     "metadata": {
      "needs_background": "light"
     },
     "output_type": "display_data"
    }
   ],
   "source": [
    "##Since we found that small and medium size counties were different, we will try and predict them here and show accuracy\n",
    "sns_cmap = ListedColormap(np.array(sns.color_palette())[0:2, :])\n",
    "size_train, size_test = train_test_split(gdps1, test_size=0.25, random_state=100)\n",
    "random_forest_model = ensemble.RandomForestClassifier(n_estimators=40,random_state=42)\n",
    "random_forest_model = random_forest_model.fit(size_train[['GDP per capita (in thousands)','Cases per Capita']],size_train['size'])\n",
    "xx, yy = np.meshgrid(np.arange(0,150, 30), np.arange(0, 1, 0.02))\n",
    "Z_string = random_forest_model.predict(np.c_[xx.ravel(), yy.ravel()])\n",
    "categories, Z_int = np.unique(Z_string, return_inverse = True)\n",
    "Z_int = Z_int.reshape(xx.shape)\n",
    "plt.figure(figsize=(20,10))\n",
    "plt.title('Overlaid Contour plot (prediction) & Scatter plot (Actual) of GDP per capita vs Cases per Capita')\n",
    "plt.contourf(xx, yy, Z_int, cmap = sns_cmap)\n",
    "sns.scatterplot(data = gdps1, x = 'GDP per capita (in thousands)', y = 'Cases per Capita', hue = 'size')"
   ]
  },
  {
   "cell_type": "code",
   "execution_count": 39,
   "id": "99ba58dc-d927-491d-bf0c-6098a278323c",
   "metadata": {},
   "outputs": [
    {
     "name": "stdout",
     "output_type": "stream",
     "text": [
      "Accuracy: 0.603 (0.025)\n"
     ]
    }
   ],
   "source": [
    "from sklearn.model_selection import cross_val_predict,cross_val_score,RepeatedStratifiedKFold\n",
    "cv = RepeatedStratifiedKFold(n_splits=5, n_repeats=5, random_state=42) #perform 5 fold cv, show the mean of scores as our accuracy for our classifier\n",
    "size_train, size_test = train_test_split(gdps1, test_size=0.3, random_state=100)\n",
    "random_forest_model = ensemble.RandomForestClassifier(n_estimators=100,random_state=42,max_depth = 4)\n",
    "random_forest_model = random_forest_model.fit(size_train[['GDP per capita (in thousands)','Cases per Capita']],size_train['size'])\n",
    "cv_scores = cross_val_score(random_forest_model, size_test[['GDP per capita (in thousands)','Cases per Capita']], size_test['size'], cv=cv)\n",
    "print('Accuracy: %.3f (%.3f)' % (np.mean(cv_scores), np.std(cv_scores)))\n"
   ]
  },
  {
   "cell_type": "code",
   "execution_count": 40,
   "id": "bea623db-6a64-4333-ab95-0f3741d16cfb",
   "metadata": {},
   "outputs": [
    {
     "data": {
      "text/plain": [
       "(0.6752873563218391, 0.6300268096514745)"
      ]
     },
     "execution_count": 40,
     "metadata": {},
     "output_type": "execute_result"
    }
   ],
   "source": [
    "rf_train_accuracy = random_forest_model.score(size_train[['GDP per capita (in thousands)','Cases per Capita']],size_train['size'])\n",
    "rf_test_accuracy = random_forest_model.score(size_test[['GDP per capita (in thousands)','Cases per Capita']],size_test['size'])\n",
    "rf_train_accuracy, rf_test_accuracy"
   ]
  },
  {
   "cell_type": "code",
   "execution_count": 41,
   "id": "4c782ac0-ea34-442e-aa6c-bbbcd102854c",
   "metadata": {},
   "outputs": [
    {
     "data": {
      "image/png": "[encoded data removed]",
      "text/plain": [
       "<Figure size 432x288 with 1 Axes>"
      ]
     },
     "metadata": {
      "needs_background": "light"
     },
     "output_type": "display_data"
    }
   ],
   "source": [
    "train_accuracy = [ rf_train_accuracy, rf_test_accuracy] #this is our accuracy for our Random Forest model after our 2 major fixes.\n",
    "\n",
    "df = pd.DataFrame([\n",
    "                   (rf_train_accuracy, rf_test_accuracy)], \n",
    "                  columns=['Training Accuracy', 'Test Accuracy'],)\n",
    "df.plot.bar();"
   ]
  },
  {
   "cell_type": "code",
   "execution_count": 42,
   "id": "f0a2b1c7-7ec4-4472-a30c-dcdb29585f3b",
   "metadata": {},
   "outputs": [],
   "source": [
    "#here is an overview of tuning different classifier models and seeing how they perform in comparison to random forest."
   ]
  },
  {
   "cell_type": "code",
   "execution_count": 43,
   "id": "607b3789-185e-472f-8702-7a9d3efaf2ac",
   "metadata": {},
   "outputs": [
    {
     "name": "stdout",
     "output_type": "stream",
     "text": [
      "Accuracy: 0.449 (0.051)\n"
     ]
    }
   ],
   "source": [
    "from sklearn.linear_model import LogisticRegression\n",
    "from sklearn.model_selection import train_test_split\n",
    "from sklearn import tree\n",
    "size_train, size_test = train_test_split(gdps, test_size=0.25, random_state=100)\n",
    "decision_tree_model = tree.DecisionTreeClassifier(criterion='gini',random_state=42,max_depth=5)\n",
    "decision_tree_model = decision_tree_model.fit(size_train[['GDP per capita (in thousands)','Cases per Capita']], size_train['size'])\n",
    "cv = RepeatedStratifiedKFold(n_splits=5, n_repeats=5, random_state=42)\n",
    "cv_scores = cross_val_score(decision_tree_model, size_test[['GDP per capita (in thousands)','Cases per Capita']], size_test['size'], cv=cv)\n",
    "print('Accuracy: %.3f (%.3f)' % (np.mean(cv_scores), np.std(cv_scores)))\n",
    "tuned_dtree = np.mean(cv_scores)"
   ]
  },
  {
   "cell_type": "code",
   "execution_count": 44,
   "id": "807f50e5-4435-4a68-ae76-de69790ab50a",
   "metadata": {},
   "outputs": [
    {
     "name": "stdout",
     "output_type": "stream",
     "text": [
      "Accuracy: 0.377 (0.033)\n"
     ]
    }
   ],
   "source": [
    "decision_tree_model = tree.DecisionTreeClassifier(criterion='gini',random_state=42)\n",
    "decision_tree_model = decision_tree_model.fit(size_train[['GDP per capita (in thousands)','Cases per Capita']], size_train['size'])\n",
    "cv = RepeatedStratifiedKFold(n_splits=5, n_repeats=5, random_state=42)\n",
    "cv_scores = cross_val_score(decision_tree_model, size_test[['GDP per capita (in thousands)','Cases per Capita']], size_test['size'], cv=cv)\n",
    "print('Accuracy: %.3f (%.3f)' % (np.mean(cv_scores), np.std(cv_scores)))\n",
    "untuned_dtree = np.mean(cv_scores)"
   ]
  },
  {
   "cell_type": "code",
   "execution_count": 45,
   "id": "5bf40ba1-bbe2-44ae-8462-948bb9f7a8f8",
   "metadata": {},
   "outputs": [
    {
     "name": "stdout",
     "output_type": "stream",
     "text": [
      "Accuracy: 0.479 (0.028)\n"
     ]
    }
   ],
   "source": [
    "size_train, size_test = train_test_split(gdps, test_size=0.25, random_state=100)\n",
    "logistic_regression_model = LogisticRegression(multi_class = 'multinomial')\n",
    "logistic_regression_model=logistic_regression_model.fit(size_train[['GDP per capita (in thousands)','Cases per Capita']], size_train['size'])\n",
    "\n",
    "cv = RepeatedStratifiedKFold(n_splits=5, n_repeats=5, random_state=42)\n",
    "cv_scores = cross_val_score(logistic_regression_model, size_test[['GDP per capita (in thousands)','Cases per Capita']], size_test['size'], cv=cv)\n",
    "print('Accuracy: %.3f (%.3f)' % (np.mean(cv_scores), np.std(cv_scores)))\n",
    "tuned_lReg = np.mean(cv_scores)"
   ]
  },
  {
   "cell_type": "code",
   "execution_count": 46,
   "id": "3b029543-5b44-421d-992f-162108aafaf3",
   "metadata": {},
   "outputs": [
    {
     "name": "stdout",
     "output_type": "stream",
     "text": [
      "Accuracy: 0.477 (0.029)\n"
     ]
    }
   ],
   "source": [
    "size_train, size_test = train_test_split(gdps, test_size=0.25, random_state=100)\n",
    "logistic_regression_model = LogisticRegression(multi_class = 'ovr')\n",
    "logistic_regression_model=logistic_regression_model.fit(size_train[['GDP per capita (in thousands)','Cases per Capita']], size_train['size'])\n",
    "\n",
    "cv = RepeatedStratifiedKFold(n_splits=5, n_repeats=5, random_state=42)\n",
    "cv_scores = cross_val_score(logistic_regression_model, size_test[['GDP per capita (in thousands)','Cases per Capita']], size_test['size'], cv=cv)\n",
    "print('Accuracy: %.3f (%.3f)' % (np.mean(cv_scores), np.std(cv_scores)))\n",
    "untuned_lReg = np.mean(cv_scores)"
   ]
  },
  {
   "cell_type": "code",
   "execution_count": 47,
   "id": "5c0effb0-c255-4a69-a0f2-7ec6e4ae000d",
   "metadata": {},
   "outputs": [
    {
     "data": {
      "image/png": "[encoded data removed]",
      "text/plain": [
       "<Figure size 432x288 with 1 Axes>"
      ]
     },
     "metadata": {
      "needs_background": "light"
     },
     "output_type": "display_data"
    }
   ],
   "source": [
    "train_accuracy = [untuned_lReg, tuned_lReg, untuned_dtree, tuned_dtree, untuned_ran_forest, tuned_ran_forest] #plot of classifier accuracy w/tuning\n",
    "index = ['Logistic Regression', 'Decision Tree', 'Random Forest']\n",
    "df = pd.DataFrame([(untuned_lReg, tuned_lReg), \n",
    "                   (untuned_dtree, tuned_dtree),\n",
    "                   (untuned_ran_forest, tuned_ran_forest)], \n",
    "                  columns=['Untuned Accuracy', 'Tuned Accuracy'], index=index)\n",
    "df.plot.bar();"
   ]
  },
  {
   "cell_type": "code",
   "execution_count": 48,
   "id": "285cf608-6d00-48fe-9712-26513af0ada4",
   "metadata": {},
   "outputs": [],
   "source": [
    "#the following is some data cleaning and simulation for A/B testing"
   ]
  },
  {
   "cell_type": "code",
   "execution_count": 49,
   "id": "384b1115-1e00-4db5-b898-7d7161756b9a",
   "metadata": {},
   "outputs": [
    {
     "data": {
      "text/html": [
       "<div>\n",
       "<style scoped>\n",
       "    .dataframe tbody tr th:only-of-type {\n",
       "        vertical-align: middle;\n",
       "    }\n",
       "\n",
       "    .dataframe tbody tr th {\n",
       "        vertical-align: top;\n",
       "    }\n",
       "\n",
       "    .dataframe thead th {\n",
       "        text-align: right;\n",
       "    }\n",
       "</style>\n",
       "<table border=\"1\" class=\"dataframe\">\n",
       "  <thead>\n",
       "    <tr style=\"text-align: right;\">\n",
       "      <th></th>\n",
       "      <th>CTYNAME</th>\n",
       "      <th>POPESTIMATE2020</th>\n",
       "      <th>total infections</th>\n",
       "      <th>size</th>\n",
       "      <th>Cases per Capita</th>\n",
       "    </tr>\n",
       "  </thead>\n",
       "  <tbody>\n",
       "    <tr>\n",
       "      <th>0</th>\n",
       "      <td>Abbeville County</td>\n",
       "      <td>24404</td>\n",
       "      <td>3208</td>\n",
       "      <td>Medium</td>\n",
       "      <td>0.131454</td>\n",
       "    </tr>\n",
       "    <tr>\n",
       "      <th>1</th>\n",
       "      <td>Acadia Parish</td>\n",
       "      <td>61918</td>\n",
       "      <td>9885</td>\n",
       "      <td>Large</td>\n",
       "      <td>0.159647</td>\n",
       "    </tr>\n",
       "    <tr>\n",
       "      <th>2</th>\n",
       "      <td>Accomack County</td>\n",
       "      <td>32238</td>\n",
       "      <td>3474</td>\n",
       "      <td>Medium</td>\n",
       "      <td>0.107761</td>\n",
       "    </tr>\n",
       "    <tr>\n",
       "      <th>4</th>\n",
       "      <td>Adair County</td>\n",
       "      <td>73968</td>\n",
       "      <td>11227</td>\n",
       "      <td>Large</td>\n",
       "      <td>0.151782</td>\n",
       "    </tr>\n",
       "    <tr>\n",
       "      <th>6</th>\n",
       "      <td>Addison County</td>\n",
       "      <td>36851</td>\n",
       "      <td>1281</td>\n",
       "      <td>Medium</td>\n",
       "      <td>0.034762</td>\n",
       "    </tr>\n",
       "    <tr>\n",
       "      <th>...</th>\n",
       "      <td>...</td>\n",
       "      <td>...</td>\n",
       "      <td>...</td>\n",
       "      <td>...</td>\n",
       "      <td>...</td>\n",
       "    </tr>\n",
       "    <tr>\n",
       "      <th>1870</th>\n",
       "      <td>Yuba County</td>\n",
       "      <td>80160</td>\n",
       "      <td>8865</td>\n",
       "      <td>Large</td>\n",
       "      <td>0.110591</td>\n",
       "    </tr>\n",
       "    <tr>\n",
       "      <th>1871</th>\n",
       "      <td>Yukon-Koyukuk Census Area</td>\n",
       "      <td>5077</td>\n",
       "      <td>478</td>\n",
       "      <td>Small</td>\n",
       "      <td>0.094150</td>\n",
       "    </tr>\n",
       "    <tr>\n",
       "      <th>1873</th>\n",
       "      <td>Zapata County</td>\n",
       "      <td>14172</td>\n",
       "      <td>2119</td>\n",
       "      <td>Small</td>\n",
       "      <td>0.149520</td>\n",
       "    </tr>\n",
       "    <tr>\n",
       "      <th>1874</th>\n",
       "      <td>Zavala County</td>\n",
       "      <td>11840</td>\n",
       "      <td>2316</td>\n",
       "      <td>Small</td>\n",
       "      <td>0.195608</td>\n",
       "    </tr>\n",
       "    <tr>\n",
       "      <th>1875</th>\n",
       "      <td>Ziebach County</td>\n",
       "      <td>2656</td>\n",
       "      <td>362</td>\n",
       "      <td>Small</td>\n",
       "      <td>0.136295</td>\n",
       "    </tr>\n",
       "  </tbody>\n",
       "</table>\n",
       "<p>1332 rows × 5 columns</p>\n",
       "</div>"
      ],
      "text/plain": [
       "                        CTYNAME  POPESTIMATE2020  total infections    size  \\\n",
       "0              Abbeville County            24404              3208  Medium   \n",
       "1                 Acadia Parish            61918              9885   Large   \n",
       "2               Accomack County            32238              3474  Medium   \n",
       "4                  Adair County            73968             11227   Large   \n",
       "6                Addison County            36851              1281  Medium   \n",
       "...                         ...              ...               ...     ...   \n",
       "1870                Yuba County            80160              8865   Large   \n",
       "1871  Yukon-Koyukuk Census Area             5077               478   Small   \n",
       "1873              Zapata County            14172              2119   Small   \n",
       "1874              Zavala County            11840              2316   Small   \n",
       "1875             Ziebach County             2656               362   Small   \n",
       "\n",
       "      Cases per Capita  \n",
       "0             0.131454  \n",
       "1             0.159647  \n",
       "2             0.107761  \n",
       "4             0.151782  \n",
       "6             0.034762  \n",
       "...                ...  \n",
       "1870          0.110591  \n",
       "1871          0.094150  \n",
       "1873          0.149520  \n",
       "1874          0.195608  \n",
       "1875          0.136295  \n",
       "\n",
       "[1332 rows x 5 columns]"
      ]
     },
     "execution_count": 49,
     "metadata": {},
     "output_type": "execute_result"
    }
   ],
   "source": [
    "ranFor_data = county_data.copy()\n",
    "c_data = pd.DataFrame({'9/12/21' : ranFor_data['9/12/21']}) # get cases per county up to the most recent date\n",
    "c_data['CTYNAME'] = county_data['CTYNAME']\n",
    "\n",
    "c_data['POPESTIMATE2020']=county_data['POPESTIMATE2020']\n",
    "y_data = c_data.groupby(['CTYNAME']).agg('sum') #obtain the total amount of infections for each county\n",
    "\n",
    "\n",
    "y_data['total infections'] = y_data['9/12/21']\n",
    "y_data = y_data.reset_index()\n",
    "y_data['size'] = size_labels = [helper(i) for i in y_data['POPESTIMATE2020']] #create size labels\n",
    "y_data['Cases per Capita'] = y_data['total infections']/y_data['POPESTIMATE2020']\n",
    "y_data['size'] = size_labels\n",
    "\n",
    "y_data = y_data[y_data['POPESTIMATE2020'] <10**5] #remove outliers\n",
    "\n",
    "y_data = y_data[['CTYNAME','POPESTIMATE2020','total infections','size','Cases per Capita']]\n",
    "y_data"
   ]
  },
  {
   "cell_type": "code",
   "execution_count": 50,
   "id": "cfcee6ac-6d58-4208-bafd-c68aaf5d2491",
   "metadata": {},
   "outputs": [
    {
     "data": {
      "text/plain": [
       "<AxesSubplot:title={'center':'Cases per Capita'}, xlabel='[size]'>"
      ]
     },
     "execution_count": 50,
     "metadata": {},
     "output_type": "execute_result"
    },
    {
     "data": {
      "image/png": "[encoded data removed]",
      "text/plain": [
       "<Figure size 432x288 with 1 Axes>"
      ]
     },
     "metadata": {
      "needs_background": "light"
     },
     "output_type": "display_data"
    }
   ],
   "source": [
    "boxplot1 = y_data[['size','Cases per Capita']]\n",
    "boxplot1.boxplot(column=['Cases per Capita'], by=['size'])"
   ]
  },
  {
   "cell_type": "code",
   "execution_count": 51,
   "id": "dc40245a-3444-4b2c-a75a-4cf951679722",
   "metadata": {},
   "outputs": [],
   "source": [
    "#we will perform 3C2 , basically 3, AB tests for each combination to see a difference between populations. \n",
    "\n",
    "def test_statistic(col1,col2,t):\n",
    "    tbl = t.copy()\n",
    "    tbl = tbl.groupby('size').agg('mean').reset_index()\n",
    "    return (tbl[tbl['size']==col1]['Cases per Capita'].iloc[0]-tbl[tbl['size']==col2]['Cases per Capita'].iloc[0]  ) #abs value of the means of 2 groups\n",
    "o_large_small = test_statistic('Large','Small',boxplot1)\n",
    "o_large_med = test_statistic('Medium','Large',boxplot1)\n",
    "o_med_small = test_statistic('Medium','Small',boxplot1) #observed statistics\n",
    "\n",
    "def simulate_null(col1,col2,boxplot1):\n",
    "    shuffled = np.random.permutation(boxplot1['Cases per Capita']) #shuffle the cases per capita\n",
    "    newTab = boxplot1.copy()\n",
    "    newTab[\"Cases per Capita\"] = shuffled\n",
    "    return test_statistic(col1,col2,newTab) #get the diff of means of the 2 groups\n"
   ]
  },
  {
   "cell_type": "code",
   "execution_count": 52,
   "id": "0b731f30-23ee-4734-bd2c-18669baec2f5",
   "metadata": {},
   "outputs": [],
   "source": [
    "large_small_test = []\n",
    "large_med_test = []\n",
    "med_small_test = []\n",
    "for i in np.arange(0,500):\n",
    "    stat = simulate_null('Large','Small',boxplot1)\n",
    "    large_small_test = np.append(large_small_test,stat)\n",
    "for i in np.arange(0,500):\n",
    "    stat = simulate_null('Large','Medium',boxplot1)\n",
    "    large_med_test  = np.append(large_med_test,stat)\n",
    "for i in np.arange(0,5000):\n",
    "    stat = simulate_null('Medium','Small',boxplot1)\n",
    "    med_small_test = np.append(med_small_test,stat)"
   ]
  },
  {
   "cell_type": "code",
   "execution_count": 53,
   "id": "56a781a2-6224-41cc-bd23-f97751214fca",
   "metadata": {},
   "outputs": [],
   "source": [
    "#p values\n",
    "large_small_p = np.count_nonzero(large_small_test>= o_large_small)/500 #count how many differences are smaller than observed, if \n",
    "large_medium_p = np.count_nonzero(large_med_test>= o_large_med)/500\n",
    "med_small_p = np.count_nonzero(med_small_test>= o_med_small)/5000"
   ]
  },
  {
   "cell_type": "code",
   "execution_count": 54,
   "id": "eb53169c-d71a-437f-8cb0-8ac00acc5b78",
   "metadata": {},
   "outputs": [
    {
     "data": {
      "text/plain": [
       "0.198"
      ]
     },
     "execution_count": 54,
     "metadata": {},
     "output_type": "execute_result"
    }
   ],
   "source": [
    "large_small_p"
   ]
  },
  {
   "cell_type": "code",
   "execution_count": 55,
   "id": "18c870da-9943-44a5-8f37-67432384782b",
   "metadata": {},
   "outputs": [
    {
     "data": {
      "text/plain": [
       "0.058"
      ]
     },
     "execution_count": 55,
     "metadata": {},
     "output_type": "execute_result"
    }
   ],
   "source": [
    "large_medium_p"
   ]
  },
  {
   "cell_type": "code",
   "execution_count": 56,
   "id": "6867d965-b6fe-4cf0-a26b-3082477a6b3d",
   "metadata": {},
   "outputs": [
    {
     "data": {
      "text/plain": [
       "0.0026"
      ]
     },
     "execution_count": 56,
     "metadata": {},
     "output_type": "execute_result"
    }
   ],
   "source": [
    "med_small_p"
   ]
  },
  {
   "cell_type": "markdown",
   "id": "16b89e46",
   "metadata": {
    "deletable": false,
    "editable": false
   },
   "source": [
    "<!-- END QUESTION -->\n",
    "\n",
    "<!-- BEGIN QUESTION -->\n",
    "\n",
    "### Question 6d\n",
    "\n",
    "Discuss your improved model's performance on both short-term and long-term time scales using a metric of your choice (*hint:* we're using an autoregressive model). In other words, given $x_t$, we wish to predict $\\hat{x}_{t+k}$, and plot the error of these predictions for two $k$ values of your choice. You may use any reasonable interpretation of short-term and long-term predictions; an initial suggestion is to use 2-day predictions and 2-week predictions.\n",
    "\n",
    "Compare the performance of this model on both timescales with the baseline model.\n",
    "\n",
    "<!--\n",
    "BEGIN QUESTION\n",
    "name: q6d\n",
    "points: 0\n",
    "manual: True\n",
    "-->"
   ]
  },
  {
   "cell_type": "code",
   "execution_count": 57,
   "id": "605e7549",
   "metadata": {},
   "outputs": [
    {
     "data": {
      "text/plain": [
       "Ellipsis"
      ]
     },
     "execution_count": 57,
     "metadata": {},
     "output_type": "execute_result"
    }
   ],
   "source": [
    "..."
   ]
  },
  {
   "cell_type": "markdown",
   "id": "74ba1ff2",
   "metadata": {
    "deletable": false,
    "editable": false
   },
   "source": [
    "<!-- END QUESTION -->\n",
    "\n",
    "<!-- BEGIN QUESTION -->\n",
    "\n",
    "### Question 6e\n",
    "\n",
    "Plot and describe the error for both the baseline and improved models as a function of time. In other words, given $x_t$, we wish to predict $\\hat{x}_{t+k}$, and plot the error of these predictions for all $k$.\n",
    "\n",
    "Consider how and why the performance of the model degrades as a function of time using the rate of growth in the error.\n",
    "\n",
    "<!--\n",
    "BEGIN QUESTION\n",
    "name: q6e\n",
    "points: 0\n",
    "manual: True\n",
    "-->"
   ]
  },
  {
   "cell_type": "code",
   "execution_count": 58,
   "id": "9fd1992b",
   "metadata": {},
   "outputs": [
    {
     "data": {
      "text/plain": [
       "Ellipsis"
      ]
     },
     "execution_count": 58,
     "metadata": {},
     "output_type": "execute_result"
    }
   ],
   "source": [
    "..."
   ]
  },
  {
   "cell_type": "markdown",
   "id": "526caa49",
   "metadata": {
    "deletable": false,
    "editable": false
   },
   "source": [
    "<!-- END QUESTION -->\n",
    "\n",
    "<!-- BEGIN QUESTION -->\n",
    "\n",
    "### Question 6f\n",
    "\n",
    "Consider a modification to the model $f(x) = x_{t+1}$ where instead $f(x) = [x_{t+1}, x_{t+2}, ..., x_{t+m}]$ for some $m > 1$. In other words, using the features $x$ that contain past and present quantities, our model *explicitly* predicts values for $m$ days in the future rather than simply the next day (i.e. $m = 1$). \n",
    "\n",
    "Train the baseline and improved model using $m = 5$ and $m = 10$. Evaluate and visualize the predictive accuracy of both models.\n",
    "\n",
    "<!--\n",
    "BEGIN QUESTION\n",
    "name: q6f\n",
    "points: 0\n",
    "manual: True\n",
    "-->"
   ]
  },
  {
   "cell_type": "code",
   "execution_count": 59,
   "id": "535e290f",
   "metadata": {},
   "outputs": [
    {
     "data": {
      "text/plain": [
       "Ellipsis"
      ]
     },
     "execution_count": 59,
     "metadata": {},
     "output_type": "execute_result"
    }
   ],
   "source": [
    "..."
   ]
  },
  {
   "cell_type": "markdown",
   "id": "cb8bc5f0",
   "metadata": {
    "deletable": false,
    "editable": false
   },
   "source": [
    "---\n",
    "\n",
    "To double-check your work, the cell below will rerun all of the autograder tests."
   ]
  },
  {
   "cell_type": "code",
   "execution_count": 60,
   "id": "dd82aee6",
   "metadata": {
    "deletable": false,
    "editable": false
   },
   "outputs": [
    {
     "data": {
      "text/plain": [
       "q1a results: All test cases passed!\n",
       "\n",
       "q1d results: All test cases passed!\n",
       "\n",
       "q1e results: All test cases passed!\n",
       "\n",
       "q5b results: All test cases passed!\n",
       "\n",
       "q5d results: All test cases passed!\n",
       "\n",
       "q5f results: All test cases passed!\n",
       "\n",
       "q5g results: All test cases passed!\n",
       "\n",
       "q5i results: All test cases passed!"
      ]
     },
     "execution_count": 60,
     "metadata": {},
     "output_type": "execute_result"
    }
   ],
   "source": [
    "grader.check_all()"
   ]
  },
  {
   "cell_type": "markdown",
   "id": "7ecfb50d",
   "metadata": {
    "deletable": false,
    "editable": false
   },
   "source": [
    "## Submission\n",
    "\n",
    "Make sure you have run all cells in your notebook in order before running the cell below, so that all images/graphs appear in the output. The cell below will generate a zip file for you to submit. **Please save before exporting!**"
   ]
  },
  {
   "cell_type": "code",
   "execution_count": 61,
   "id": "febbeabf",
   "metadata": {
    "deletable": false,
    "editable": false
   },
   "outputs": [
    {
     "data": {
      "text/html": [
       "\n",
       "            <p>Your submission has been exported. Click <a href=\"covid_part2_2021_12_12T16_52_56_279528.zip\" download=\"covid_part2_2021_12_12T16_52_56_279528.zip\" target=\"_blank\">here</a>\n",
       "            to download the zip file.</p>\n",
       "            "
      ],
      "text/plain": [
       "<IPython.core.display.HTML object>"
      ]
     },
     "metadata": {},
     "output_type": "display_data"
    }
   ],
   "source": [
    "# Save your notebook first, then run this cell to export your submission.\n",
    "grader.export()"
   ]
  },
  {
   "cell_type": "markdown",
   "id": "fd5501bd",
   "metadata": {},
   "source": [
    " "
   ]
  }
 ],
 "metadata": {
  "kernelspec": {
   "display_name": "Python 3 (ipykernel)",
   "language": "python",
   "name": "python3"
  },
  "language_info": {
   "codemirror_mode": {
    "name": "ipython",
    "version": 3
   },
   "file_extension": ".py",
   "mimetype": "text/x-python",
   "name": "python",
   "nbconvert_exporter": "python",
   "pygments_lexer": "ipython3",
   "version": "3.9.7"
  }
 },
 "nbformat": 4,
 "nbformat_minor": 5
}
